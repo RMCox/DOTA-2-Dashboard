{
 "cells": [
  {
   "cell_type": "markdown",
   "metadata": {},
   "source": [
    "Need to fix the lookup early! indexes are all over the place"
   ]
  },
  {
   "cell_type": "code",
   "execution_count": 1,
   "metadata": {},
   "outputs": [],
   "source": [
    "from pathlib import Path\n",
    "\n",
    "import tqdm\n",
    "import pandas as pd\n",
    "import torch\n",
    "import torch.nn.functional as F\n",
    "import torch.nn as nn\n",
    "import torch.optim as optim\n",
    "import random as random\n",
    "\n",
    "from torch.utils.data import DataLoader, Dataset\n",
    "from sklearn.feature_extraction.text import CountVectorizer\n",
    "from tqdm import tqdm, tqdm_notebook\n",
    "import numpy as np\n",
    "import sys\n",
    "import matplotlib.pyplot as plt\n",
    "import seaborn as sns\n",
    "import pickle\n",
    "from sklearn.metrics import confusion_matrix\n",
    "\n",
    "device = torch.device('cuda' if torch.cuda.is_available() else 'cpu')"
   ]
  },
  {
   "cell_type": "markdown",
   "metadata": {},
   "source": [
    "### Loading and cleaning"
   ]
  },
  {
   "cell_type": "code",
   "execution_count": 2,
   "metadata": {},
   "outputs": [],
   "source": [
    "df = pd.read_csv(\"dota-2-matches\\players.csv\")"
   ]
  },
  {
   "cell_type": "code",
   "execution_count": 3,
   "metadata": {},
   "outputs": [
    {
     "data": {
      "text/plain": [
       "<function __main__.<lambda>(x)>"
      ]
     },
     "execution_count": 3,
     "metadata": {},
     "output_type": "execute_result"
    }
   ],
   "source": [
    "lambda x: 'true' if x <= 2.5 else 'false'"
   ]
  },
  {
   "cell_type": "code",
   "execution_count": 4,
   "metadata": {},
   "outputs": [
    {
     "data": {
      "text/html": [
       "<div>\n",
       "<style scoped>\n",
       "    .dataframe tbody tr th:only-of-type {\n",
       "        vertical-align: middle;\n",
       "    }\n",
       "\n",
       "    .dataframe tbody tr th {\n",
       "        vertical-align: top;\n",
       "    }\n",
       "\n",
       "    .dataframe thead th {\n",
       "        text-align: right;\n",
       "    }\n",
       "</style>\n",
       "<table border=\"1\" class=\"dataframe\">\n",
       "  <thead>\n",
       "    <tr style=\"text-align: right;\">\n",
       "      <th></th>\n",
       "      <th>match_id</th>\n",
       "      <th>hero_id</th>\n",
       "      <th>player_slot</th>\n",
       "    </tr>\n",
       "  </thead>\n",
       "  <tbody>\n",
       "    <tr>\n",
       "      <th>0</th>\n",
       "      <td>0</td>\n",
       "      <td>86</td>\n",
       "      <td>0</td>\n",
       "    </tr>\n",
       "    <tr>\n",
       "      <th>1</th>\n",
       "      <td>0</td>\n",
       "      <td>51</td>\n",
       "      <td>1</td>\n",
       "    </tr>\n",
       "    <tr>\n",
       "      <th>2</th>\n",
       "      <td>0</td>\n",
       "      <td>83</td>\n",
       "      <td>2</td>\n",
       "    </tr>\n",
       "    <tr>\n",
       "      <th>3</th>\n",
       "      <td>0</td>\n",
       "      <td>11</td>\n",
       "      <td>3</td>\n",
       "    </tr>\n",
       "    <tr>\n",
       "      <th>4</th>\n",
       "      <td>0</td>\n",
       "      <td>67</td>\n",
       "      <td>4</td>\n",
       "    </tr>\n",
       "  </tbody>\n",
       "</table>\n",
       "</div>"
      ],
      "text/plain": [
       "   match_id  hero_id  player_slot\n",
       "0         0       86            0\n",
       "1         0       51            1\n",
       "2         0       83            2\n",
       "3         0       11            3\n",
       "4         0       67            4"
      ]
     },
     "execution_count": 4,
     "metadata": {},
     "output_type": "execute_result"
    }
   ],
   "source": [
    "df = df[['match_id','hero_id','player_slot']]\n",
    "df.head()"
   ]
  },
  {
   "cell_type": "code",
   "execution_count": 5,
   "metadata": {},
   "outputs": [
    {
     "data": {
      "text/plain": [
       "array([  0,   1,   2,   3,   4, 128, 129, 130, 131, 132], dtype=int64)"
      ]
     },
     "execution_count": 5,
     "metadata": {},
     "output_type": "execute_result"
    }
   ],
   "source": [
    "df['player_slot'].unique()"
   ]
  },
  {
   "cell_type": "code",
   "execution_count": 6,
   "metadata": {},
   "outputs": [],
   "source": [
    "df['player_slot'] = df['player_slot'].apply(lambda x: x -123 if x >= 128 else x)"
   ]
  },
  {
   "cell_type": "markdown",
   "metadata": {},
   "source": [
    "Add a row for the team - this will feed the neural network"
   ]
  },
  {
   "cell_type": "code",
   "execution_count": 7,
   "metadata": {},
   "outputs": [],
   "source": [
    "df['team'] = df['player_slot'].apply(lambda x: 0 if x <= 4 else 1)"
   ]
  },
  {
   "cell_type": "code",
   "execution_count": 8,
   "metadata": {
    "scrolled": true
   },
   "outputs": [
    {
     "data": {
      "text/html": [
       "<div>\n",
       "<style scoped>\n",
       "    .dataframe tbody tr th:only-of-type {\n",
       "        vertical-align: middle;\n",
       "    }\n",
       "\n",
       "    .dataframe tbody tr th {\n",
       "        vertical-align: top;\n",
       "    }\n",
       "\n",
       "    .dataframe thead th {\n",
       "        text-align: right;\n",
       "    }\n",
       "</style>\n",
       "<table border=\"1\" class=\"dataframe\">\n",
       "  <thead>\n",
       "    <tr style=\"text-align: right;\">\n",
       "      <th></th>\n",
       "      <th>match_id</th>\n",
       "      <th>hero_id</th>\n",
       "      <th>player_slot</th>\n",
       "      <th>team</th>\n",
       "    </tr>\n",
       "  </thead>\n",
       "  <tbody>\n",
       "    <tr>\n",
       "      <th>0</th>\n",
       "      <td>0</td>\n",
       "      <td>86</td>\n",
       "      <td>0</td>\n",
       "      <td>0</td>\n",
       "    </tr>\n",
       "    <tr>\n",
       "      <th>1</th>\n",
       "      <td>0</td>\n",
       "      <td>51</td>\n",
       "      <td>1</td>\n",
       "      <td>0</td>\n",
       "    </tr>\n",
       "    <tr>\n",
       "      <th>2</th>\n",
       "      <td>0</td>\n",
       "      <td>83</td>\n",
       "      <td>2</td>\n",
       "      <td>0</td>\n",
       "    </tr>\n",
       "    <tr>\n",
       "      <th>3</th>\n",
       "      <td>0</td>\n",
       "      <td>11</td>\n",
       "      <td>3</td>\n",
       "      <td>0</td>\n",
       "    </tr>\n",
       "    <tr>\n",
       "      <th>4</th>\n",
       "      <td>0</td>\n",
       "      <td>67</td>\n",
       "      <td>4</td>\n",
       "      <td>0</td>\n",
       "    </tr>\n",
       "    <tr>\n",
       "      <th>5</th>\n",
       "      <td>0</td>\n",
       "      <td>106</td>\n",
       "      <td>5</td>\n",
       "      <td>1</td>\n",
       "    </tr>\n",
       "    <tr>\n",
       "      <th>6</th>\n",
       "      <td>0</td>\n",
       "      <td>102</td>\n",
       "      <td>6</td>\n",
       "      <td>1</td>\n",
       "    </tr>\n",
       "    <tr>\n",
       "      <th>7</th>\n",
       "      <td>0</td>\n",
       "      <td>46</td>\n",
       "      <td>7</td>\n",
       "      <td>1</td>\n",
       "    </tr>\n",
       "    <tr>\n",
       "      <th>8</th>\n",
       "      <td>0</td>\n",
       "      <td>7</td>\n",
       "      <td>8</td>\n",
       "      <td>1</td>\n",
       "    </tr>\n",
       "    <tr>\n",
       "      <th>9</th>\n",
       "      <td>0</td>\n",
       "      <td>73</td>\n",
       "      <td>9</td>\n",
       "      <td>1</td>\n",
       "    </tr>\n",
       "  </tbody>\n",
       "</table>\n",
       "</div>"
      ],
      "text/plain": [
       "   match_id  hero_id  player_slot  team\n",
       "0         0       86            0     0\n",
       "1         0       51            1     0\n",
       "2         0       83            2     0\n",
       "3         0       11            3     0\n",
       "4         0       67            4     0\n",
       "5         0      106            5     1\n",
       "6         0      102            6     1\n",
       "7         0       46            7     1\n",
       "8         0        7            8     1\n",
       "9         0       73            9     1"
      ]
     },
     "execution_count": 8,
     "metadata": {},
     "output_type": "execute_result"
    }
   ],
   "source": [
    "df.head(10)"
   ]
  },
  {
   "cell_type": "code",
   "execution_count": 9,
   "metadata": {
    "scrolled": true
   },
   "outputs": [
    {
     "data": {
      "text/plain": [
       "array([0, 1, 2, 3, 4, 5, 6, 7, 8, 9], dtype=int64)"
      ]
     },
     "execution_count": 9,
     "metadata": {},
     "output_type": "execute_result"
    }
   ],
   "source": [
    "df['player_slot'].unique()"
   ]
  },
  {
   "cell_type": "markdown",
   "metadata": {},
   "source": [
    "### No missing values"
   ]
  },
  {
   "cell_type": "code",
   "execution_count": 10,
   "metadata": {},
   "outputs": [
    {
     "data": {
      "text/html": [
       "<div>\n",
       "<style scoped>\n",
       "    .dataframe tbody tr th:only-of-type {\n",
       "        vertical-align: middle;\n",
       "    }\n",
       "\n",
       "    .dataframe tbody tr th {\n",
       "        vertical-align: top;\n",
       "    }\n",
       "\n",
       "    .dataframe thead th {\n",
       "        text-align: right;\n",
       "    }\n",
       "</style>\n",
       "<table border=\"1\" class=\"dataframe\">\n",
       "  <thead>\n",
       "    <tr style=\"text-align: right;\">\n",
       "      <th></th>\n",
       "      <th>match_id</th>\n",
       "      <th>hero_id</th>\n",
       "      <th>player_slot</th>\n",
       "      <th>team</th>\n",
       "    </tr>\n",
       "  </thead>\n",
       "  <tbody>\n",
       "  </tbody>\n",
       "</table>\n",
       "</div>"
      ],
      "text/plain": [
       "Empty DataFrame\n",
       "Columns: [match_id, hero_id, player_slot, team]\n",
       "Index: []"
      ]
     },
     "execution_count": 10,
     "metadata": {},
     "output_type": "execute_result"
    }
   ],
   "source": [
    "df[df.isna().any(axis=1)]"
   ]
  },
  {
   "cell_type": "markdown",
   "metadata": {},
   "source": [
    "Remove games where there are fewer than 10 players"
   ]
  },
  {
   "cell_type": "code",
   "execution_count": 11,
   "metadata": {},
   "outputs": [
    {
     "data": {
      "text/html": [
       "<div>\n",
       "<style scoped>\n",
       "    .dataframe tbody tr th:only-of-type {\n",
       "        vertical-align: middle;\n",
       "    }\n",
       "\n",
       "    .dataframe tbody tr th {\n",
       "        vertical-align: top;\n",
       "    }\n",
       "\n",
       "    .dataframe thead th {\n",
       "        text-align: right;\n",
       "    }\n",
       "</style>\n",
       "<table border=\"1\" class=\"dataframe\">\n",
       "  <thead>\n",
       "    <tr style=\"text-align: right;\">\n",
       "      <th></th>\n",
       "      <th>hero_id</th>\n",
       "      <th>player_slot</th>\n",
       "      <th>team</th>\n",
       "    </tr>\n",
       "    <tr>\n",
       "      <th>match_id</th>\n",
       "      <th></th>\n",
       "      <th></th>\n",
       "      <th></th>\n",
       "    </tr>\n",
       "  </thead>\n",
       "  <tbody>\n",
       "    <tr>\n",
       "      <th>0</th>\n",
       "      <td>10</td>\n",
       "      <td>10</td>\n",
       "      <td>10</td>\n",
       "    </tr>\n",
       "    <tr>\n",
       "      <th>1</th>\n",
       "      <td>10</td>\n",
       "      <td>10</td>\n",
       "      <td>10</td>\n",
       "    </tr>\n",
       "    <tr>\n",
       "      <th>2</th>\n",
       "      <td>10</td>\n",
       "      <td>10</td>\n",
       "      <td>10</td>\n",
       "    </tr>\n",
       "    <tr>\n",
       "      <th>3</th>\n",
       "      <td>10</td>\n",
       "      <td>10</td>\n",
       "      <td>10</td>\n",
       "    </tr>\n",
       "    <tr>\n",
       "      <th>4</th>\n",
       "      <td>10</td>\n",
       "      <td>10</td>\n",
       "      <td>10</td>\n",
       "    </tr>\n",
       "  </tbody>\n",
       "</table>\n",
       "</div>"
      ],
      "text/plain": [
       "          hero_id  player_slot  team\n",
       "match_id                            \n",
       "0              10           10    10\n",
       "1              10           10    10\n",
       "2              10           10    10\n",
       "3              10           10    10\n",
       "4              10           10    10"
      ]
     },
     "execution_count": 11,
     "metadata": {},
     "output_type": "execute_result"
    }
   ],
   "source": [
    "df_counts = df.groupby(['match_id']).count()\n",
    "df_counts.head()\n"
   ]
  },
  {
   "cell_type": "markdown",
   "metadata": {},
   "source": [
    "All matches contain exactly 10 players"
   ]
  },
  {
   "cell_type": "code",
   "execution_count": 12,
   "metadata": {},
   "outputs": [
    {
     "data": {
      "text/html": [
       "<div>\n",
       "<style scoped>\n",
       "    .dataframe tbody tr th:only-of-type {\n",
       "        vertical-align: middle;\n",
       "    }\n",
       "\n",
       "    .dataframe tbody tr th {\n",
       "        vertical-align: top;\n",
       "    }\n",
       "\n",
       "    .dataframe thead th {\n",
       "        text-align: right;\n",
       "    }\n",
       "</style>\n",
       "<table border=\"1\" class=\"dataframe\">\n",
       "  <thead>\n",
       "    <tr style=\"text-align: right;\">\n",
       "      <th></th>\n",
       "      <th>hero_id</th>\n",
       "      <th>player_slot</th>\n",
       "      <th>team</th>\n",
       "    </tr>\n",
       "    <tr>\n",
       "      <th>match_id</th>\n",
       "      <th></th>\n",
       "      <th></th>\n",
       "      <th></th>\n",
       "    </tr>\n",
       "  </thead>\n",
       "  <tbody>\n",
       "  </tbody>\n",
       "</table>\n",
       "</div>"
      ],
      "text/plain": [
       "Empty DataFrame\n",
       "Columns: [hero_id, player_slot, team]\n",
       "Index: []"
      ]
     },
     "execution_count": 12,
     "metadata": {},
     "output_type": "execute_result"
    }
   ],
   "source": [
    "df_counts[df_counts['hero_id'] != 10]"
   ]
  },
  {
   "cell_type": "markdown",
   "metadata": {},
   "source": [
    "Reading in hero dataframe and joining to original data"
   ]
  },
  {
   "cell_type": "code",
   "execution_count": 13,
   "metadata": {},
   "outputs": [],
   "source": [
    "df_hero_names = pd.read_csv(\"dota-2-matches/hero_names.csv\")"
   ]
  },
  {
   "cell_type": "code",
   "execution_count": 14,
   "metadata": {},
   "outputs": [
    {
     "data": {
      "text/html": [
       "<div>\n",
       "<style scoped>\n",
       "    .dataframe tbody tr th:only-of-type {\n",
       "        vertical-align: middle;\n",
       "    }\n",
       "\n",
       "    .dataframe tbody tr th {\n",
       "        vertical-align: top;\n",
       "    }\n",
       "\n",
       "    .dataframe thead th {\n",
       "        text-align: right;\n",
       "    }\n",
       "</style>\n",
       "<table border=\"1\" class=\"dataframe\">\n",
       "  <thead>\n",
       "    <tr style=\"text-align: right;\">\n",
       "      <th></th>\n",
       "      <th>name</th>\n",
       "      <th>hero_id</th>\n",
       "      <th>localized_name</th>\n",
       "    </tr>\n",
       "  </thead>\n",
       "  <tbody>\n",
       "    <tr>\n",
       "      <th>0</th>\n",
       "      <td>npc_dota_hero_antimage</td>\n",
       "      <td>1</td>\n",
       "      <td>Anti-Mage</td>\n",
       "    </tr>\n",
       "    <tr>\n",
       "      <th>1</th>\n",
       "      <td>npc_dota_hero_axe</td>\n",
       "      <td>2</td>\n",
       "      <td>Axe</td>\n",
       "    </tr>\n",
       "    <tr>\n",
       "      <th>2</th>\n",
       "      <td>npc_dota_hero_bane</td>\n",
       "      <td>3</td>\n",
       "      <td>Bane</td>\n",
       "    </tr>\n",
       "    <tr>\n",
       "      <th>3</th>\n",
       "      <td>npc_dota_hero_bloodseeker</td>\n",
       "      <td>4</td>\n",
       "      <td>Bloodseeker</td>\n",
       "    </tr>\n",
       "    <tr>\n",
       "      <th>4</th>\n",
       "      <td>npc_dota_hero_crystal_maiden</td>\n",
       "      <td>5</td>\n",
       "      <td>Crystal Maiden</td>\n",
       "    </tr>\n",
       "  </tbody>\n",
       "</table>\n",
       "</div>"
      ],
      "text/plain": [
       "                           name  hero_id  localized_name\n",
       "0        npc_dota_hero_antimage        1       Anti-Mage\n",
       "1             npc_dota_hero_axe        2             Axe\n",
       "2            npc_dota_hero_bane        3            Bane\n",
       "3     npc_dota_hero_bloodseeker        4     Bloodseeker\n",
       "4  npc_dota_hero_crystal_maiden        5  Crystal Maiden"
      ]
     },
     "execution_count": 14,
     "metadata": {},
     "output_type": "execute_result"
    }
   ],
   "source": [
    "df_hero_names.head()"
   ]
  },
  {
   "cell_type": "markdown",
   "metadata": {},
   "source": [
    "Reindexing"
   ]
  },
  {
   "cell_type": "code",
   "execution_count": 15,
   "metadata": {},
   "outputs": [],
   "source": [
    "df_merged = df.merge(df_hero_names, on=\"hero_id\").sort_values(by=[\"match_id\", \"player_slot\"])"
   ]
  },
  {
   "cell_type": "code",
   "execution_count": 16,
   "metadata": {},
   "outputs": [
    {
     "data": {
      "text/html": [
       "<div>\n",
       "<style scoped>\n",
       "    .dataframe tbody tr th:only-of-type {\n",
       "        vertical-align: middle;\n",
       "    }\n",
       "\n",
       "    .dataframe tbody tr th {\n",
       "        vertical-align: top;\n",
       "    }\n",
       "\n",
       "    .dataframe thead th {\n",
       "        text-align: right;\n",
       "    }\n",
       "</style>\n",
       "<table border=\"1\" class=\"dataframe\">\n",
       "  <thead>\n",
       "    <tr style=\"text-align: right;\">\n",
       "      <th></th>\n",
       "      <th>match_id</th>\n",
       "      <th>hero_id</th>\n",
       "      <th>player_slot</th>\n",
       "      <th>team</th>\n",
       "      <th>name</th>\n",
       "      <th>localized_name</th>\n",
       "    </tr>\n",
       "  </thead>\n",
       "  <tbody>\n",
       "    <tr>\n",
       "      <th>0</th>\n",
       "      <td>0</td>\n",
       "      <td>86</td>\n",
       "      <td>0</td>\n",
       "      <td>0</td>\n",
       "      <td>npc_dota_hero_rubick</td>\n",
       "      <td>Rubick</td>\n",
       "    </tr>\n",
       "    <tr>\n",
       "      <th>8183</th>\n",
       "      <td>0</td>\n",
       "      <td>51</td>\n",
       "      <td>1</td>\n",
       "      <td>0</td>\n",
       "      <td>npc_dota_hero_rattletrap</td>\n",
       "      <td>Clockwerk</td>\n",
       "    </tr>\n",
       "    <tr>\n",
       "      <th>12484</th>\n",
       "      <td>0</td>\n",
       "      <td>83</td>\n",
       "      <td>2</td>\n",
       "      <td>0</td>\n",
       "      <td>npc_dota_hero_treant</td>\n",
       "      <td>Treant Protector</td>\n",
       "    </tr>\n",
       "    <tr>\n",
       "      <th>14226</th>\n",
       "      <td>0</td>\n",
       "      <td>11</td>\n",
       "      <td>3</td>\n",
       "      <td>0</td>\n",
       "      <td>npc_dota_hero_nevermore</td>\n",
       "      <td>Shadow Fiend</td>\n",
       "    </tr>\n",
       "    <tr>\n",
       "      <th>31233</th>\n",
       "      <td>0</td>\n",
       "      <td>67</td>\n",
       "      <td>4</td>\n",
       "      <td>0</td>\n",
       "      <td>npc_dota_hero_spectre</td>\n",
       "      <td>Spectre</td>\n",
       "    </tr>\n",
       "  </tbody>\n",
       "</table>\n",
       "</div>"
      ],
      "text/plain": [
       "       match_id  hero_id  player_slot  team                      name  \\\n",
       "0             0       86            0     0      npc_dota_hero_rubick   \n",
       "8183          0       51            1     0  npc_dota_hero_rattletrap   \n",
       "12484         0       83            2     0      npc_dota_hero_treant   \n",
       "14226         0       11            3     0   npc_dota_hero_nevermore   \n",
       "31233         0       67            4     0     npc_dota_hero_spectre   \n",
       "\n",
       "         localized_name  \n",
       "0                Rubick  \n",
       "8183          Clockwerk  \n",
       "12484  Treant Protector  \n",
       "14226      Shadow Fiend  \n",
       "31233           Spectre  "
      ]
     },
     "execution_count": 16,
     "metadata": {},
     "output_type": "execute_result"
    }
   ],
   "source": [
    "df_merged.head()"
   ]
  },
  {
   "cell_type": "code",
   "execution_count": 17,
   "metadata": {},
   "outputs": [],
   "source": [
    "def func(x):\n",
    "    if x == 113:\n",
    "        return x-4\n",
    "    elif x > 107:\n",
    "        return x-3\n",
    "    elif x > 23:\n",
    "        return x-2\n",
    "    else:\n",
    "        return x-1"
   ]
  },
  {
   "cell_type": "code",
   "execution_count": 18,
   "metadata": {},
   "outputs": [],
   "source": [
    "df_merged['temp_id'] = df_merged['hero_id'].apply(func)"
   ]
  },
  {
   "cell_type": "code",
   "execution_count": 19,
   "metadata": {},
   "outputs": [
    {
     "data": {
      "text/html": [
       "<div>\n",
       "<style scoped>\n",
       "    .dataframe tbody tr th:only-of-type {\n",
       "        vertical-align: middle;\n",
       "    }\n",
       "\n",
       "    .dataframe tbody tr th {\n",
       "        vertical-align: top;\n",
       "    }\n",
       "\n",
       "    .dataframe thead th {\n",
       "        text-align: right;\n",
       "    }\n",
       "</style>\n",
       "<table border=\"1\" class=\"dataframe\">\n",
       "  <thead>\n",
       "    <tr style=\"text-align: right;\">\n",
       "      <th></th>\n",
       "      <th>match_id</th>\n",
       "      <th>hero_id</th>\n",
       "      <th>player_slot</th>\n",
       "      <th>team</th>\n",
       "      <th>name</th>\n",
       "      <th>localized_name</th>\n",
       "      <th>temp_id</th>\n",
       "    </tr>\n",
       "  </thead>\n",
       "  <tbody>\n",
       "    <tr>\n",
       "      <th>0</th>\n",
       "      <td>0</td>\n",
       "      <td>86</td>\n",
       "      <td>0</td>\n",
       "      <td>0</td>\n",
       "      <td>npc_dota_hero_rubick</td>\n",
       "      <td>Rubick</td>\n",
       "      <td>84</td>\n",
       "    </tr>\n",
       "    <tr>\n",
       "      <th>8183</th>\n",
       "      <td>0</td>\n",
       "      <td>51</td>\n",
       "      <td>1</td>\n",
       "      <td>0</td>\n",
       "      <td>npc_dota_hero_rattletrap</td>\n",
       "      <td>Clockwerk</td>\n",
       "      <td>49</td>\n",
       "    </tr>\n",
       "    <tr>\n",
       "      <th>12484</th>\n",
       "      <td>0</td>\n",
       "      <td>83</td>\n",
       "      <td>2</td>\n",
       "      <td>0</td>\n",
       "      <td>npc_dota_hero_treant</td>\n",
       "      <td>Treant Protector</td>\n",
       "      <td>81</td>\n",
       "    </tr>\n",
       "    <tr>\n",
       "      <th>14226</th>\n",
       "      <td>0</td>\n",
       "      <td>11</td>\n",
       "      <td>3</td>\n",
       "      <td>0</td>\n",
       "      <td>npc_dota_hero_nevermore</td>\n",
       "      <td>Shadow Fiend</td>\n",
       "      <td>10</td>\n",
       "    </tr>\n",
       "    <tr>\n",
       "      <th>31233</th>\n",
       "      <td>0</td>\n",
       "      <td>67</td>\n",
       "      <td>4</td>\n",
       "      <td>0</td>\n",
       "      <td>npc_dota_hero_spectre</td>\n",
       "      <td>Spectre</td>\n",
       "      <td>65</td>\n",
       "    </tr>\n",
       "  </tbody>\n",
       "</table>\n",
       "</div>"
      ],
      "text/plain": [
       "       match_id  hero_id  player_slot  team                      name  \\\n",
       "0             0       86            0     0      npc_dota_hero_rubick   \n",
       "8183          0       51            1     0  npc_dota_hero_rattletrap   \n",
       "12484         0       83            2     0      npc_dota_hero_treant   \n",
       "14226         0       11            3     0   npc_dota_hero_nevermore   \n",
       "31233         0       67            4     0     npc_dota_hero_spectre   \n",
       "\n",
       "         localized_name  temp_id  \n",
       "0                Rubick       84  \n",
       "8183          Clockwerk       49  \n",
       "12484  Treant Protector       81  \n",
       "14226      Shadow Fiend       10  \n",
       "31233           Spectre       65  "
      ]
     },
     "execution_count": 19,
     "metadata": {},
     "output_type": "execute_result"
    }
   ],
   "source": [
    "df_merged.head()"
   ]
  },
  {
   "cell_type": "markdown",
   "metadata": {},
   "source": [
    "Checking lengths of new column is the same after remapping"
   ]
  },
  {
   "cell_type": "code",
   "execution_count": 20,
   "metadata": {
    "scrolled": true
   },
   "outputs": [
    {
     "data": {
      "text/plain": [
       "110"
      ]
     },
     "execution_count": 20,
     "metadata": {},
     "output_type": "execute_result"
    }
   ],
   "source": [
    "len(sorted(df_merged['temp_id'].unique().tolist()))"
   ]
  },
  {
   "cell_type": "code",
   "execution_count": 21,
   "metadata": {},
   "outputs": [
    {
     "data": {
      "text/plain": [
       "110"
      ]
     },
     "execution_count": 21,
     "metadata": {},
     "output_type": "execute_result"
    }
   ],
   "source": [
    "len(df_merged['hero_id'].unique().tolist())"
   ]
  },
  {
   "cell_type": "code",
   "execution_count": 22,
   "metadata": {},
   "outputs": [],
   "source": [
    "n_heroes = len(sorted(df_merged['temp_id'].unique().tolist()))"
   ]
  },
  {
   "cell_type": "code",
   "execution_count": 23,
   "metadata": {},
   "outputs": [
    {
     "data": {
      "text/html": [
       "<div>\n",
       "<style scoped>\n",
       "    .dataframe tbody tr th:only-of-type {\n",
       "        vertical-align: middle;\n",
       "    }\n",
       "\n",
       "    .dataframe tbody tr th {\n",
       "        vertical-align: top;\n",
       "    }\n",
       "\n",
       "    .dataframe thead th {\n",
       "        text-align: right;\n",
       "    }\n",
       "</style>\n",
       "<table border=\"1\" class=\"dataframe\">\n",
       "  <thead>\n",
       "    <tr style=\"text-align: right;\">\n",
       "      <th></th>\n",
       "      <th>match_id</th>\n",
       "      <th>hero_id</th>\n",
       "      <th>player_slot</th>\n",
       "      <th>team</th>\n",
       "      <th>name</th>\n",
       "      <th>localized_name</th>\n",
       "      <th>temp_id</th>\n",
       "    </tr>\n",
       "  </thead>\n",
       "  <tbody>\n",
       "    <tr>\n",
       "      <th>0</th>\n",
       "      <td>0</td>\n",
       "      <td>86</td>\n",
       "      <td>0</td>\n",
       "      <td>0</td>\n",
       "      <td>npc_dota_hero_rubick</td>\n",
       "      <td>Rubick</td>\n",
       "      <td>84</td>\n",
       "    </tr>\n",
       "    <tr>\n",
       "      <th>8183</th>\n",
       "      <td>0</td>\n",
       "      <td>51</td>\n",
       "      <td>1</td>\n",
       "      <td>0</td>\n",
       "      <td>npc_dota_hero_rattletrap</td>\n",
       "      <td>Clockwerk</td>\n",
       "      <td>49</td>\n",
       "    </tr>\n",
       "    <tr>\n",
       "      <th>12484</th>\n",
       "      <td>0</td>\n",
       "      <td>83</td>\n",
       "      <td>2</td>\n",
       "      <td>0</td>\n",
       "      <td>npc_dota_hero_treant</td>\n",
       "      <td>Treant Protector</td>\n",
       "      <td>81</td>\n",
       "    </tr>\n",
       "    <tr>\n",
       "      <th>14226</th>\n",
       "      <td>0</td>\n",
       "      <td>11</td>\n",
       "      <td>3</td>\n",
       "      <td>0</td>\n",
       "      <td>npc_dota_hero_nevermore</td>\n",
       "      <td>Shadow Fiend</td>\n",
       "      <td>10</td>\n",
       "    </tr>\n",
       "    <tr>\n",
       "      <th>31233</th>\n",
       "      <td>0</td>\n",
       "      <td>67</td>\n",
       "      <td>4</td>\n",
       "      <td>0</td>\n",
       "      <td>npc_dota_hero_spectre</td>\n",
       "      <td>Spectre</td>\n",
       "      <td>65</td>\n",
       "    </tr>\n",
       "  </tbody>\n",
       "</table>\n",
       "</div>"
      ],
      "text/plain": [
       "       match_id  hero_id  player_slot  team                      name  \\\n",
       "0             0       86            0     0      npc_dota_hero_rubick   \n",
       "8183          0       51            1     0  npc_dota_hero_rattletrap   \n",
       "12484         0       83            2     0      npc_dota_hero_treant   \n",
       "14226         0       11            3     0   npc_dota_hero_nevermore   \n",
       "31233         0       67            4     0     npc_dota_hero_spectre   \n",
       "\n",
       "         localized_name  temp_id  \n",
       "0                Rubick       84  \n",
       "8183          Clockwerk       49  \n",
       "12484  Treant Protector       81  \n",
       "14226      Shadow Fiend       10  \n",
       "31233           Spectre       65  "
      ]
     },
     "execution_count": 23,
     "metadata": {},
     "output_type": "execute_result"
    }
   ],
   "source": [
    "df_merged.head()"
   ]
  },
  {
   "cell_type": "code",
   "execution_count": 24,
   "metadata": {},
   "outputs": [],
   "source": [
    "# np.random.choice(range(len(df_merged)), int(len(df_merged)*0.8), replace=False)"
   ]
  },
  {
   "cell_type": "code",
   "execution_count": 25,
   "metadata": {},
   "outputs": [],
   "source": [
    "df_first9 = df_merged[df_merged['player_slot'] != 9]\n",
    "df_final_pick = df_merged[df_merged['player_slot'] == 9]\n"
   ]
  },
  {
   "cell_type": "code",
   "execution_count": 26,
   "metadata": {},
   "outputs": [
    {
     "data": {
      "text/html": [
       "<div>\n",
       "<style scoped>\n",
       "    .dataframe tbody tr th:only-of-type {\n",
       "        vertical-align: middle;\n",
       "    }\n",
       "\n",
       "    .dataframe tbody tr th {\n",
       "        vertical-align: top;\n",
       "    }\n",
       "\n",
       "    .dataframe thead th {\n",
       "        text-align: right;\n",
       "    }\n",
       "</style>\n",
       "<table border=\"1\" class=\"dataframe\">\n",
       "  <thead>\n",
       "    <tr style=\"text-align: right;\">\n",
       "      <th></th>\n",
       "      <th>match_id</th>\n",
       "      <th>hero_id</th>\n",
       "      <th>player_slot</th>\n",
       "      <th>team</th>\n",
       "      <th>name</th>\n",
       "      <th>localized_name</th>\n",
       "      <th>temp_id</th>\n",
       "    </tr>\n",
       "  </thead>\n",
       "  <tbody>\n",
       "    <tr>\n",
       "      <th>0</th>\n",
       "      <td>0</td>\n",
       "      <td>86</td>\n",
       "      <td>0</td>\n",
       "      <td>0</td>\n",
       "      <td>npc_dota_hero_rubick</td>\n",
       "      <td>Rubick</td>\n",
       "      <td>84</td>\n",
       "    </tr>\n",
       "    <tr>\n",
       "      <th>8183</th>\n",
       "      <td>0</td>\n",
       "      <td>51</td>\n",
       "      <td>1</td>\n",
       "      <td>0</td>\n",
       "      <td>npc_dota_hero_rattletrap</td>\n",
       "      <td>Clockwerk</td>\n",
       "      <td>49</td>\n",
       "    </tr>\n",
       "    <tr>\n",
       "      <th>12484</th>\n",
       "      <td>0</td>\n",
       "      <td>83</td>\n",
       "      <td>2</td>\n",
       "      <td>0</td>\n",
       "      <td>npc_dota_hero_treant</td>\n",
       "      <td>Treant Protector</td>\n",
       "      <td>81</td>\n",
       "    </tr>\n",
       "    <tr>\n",
       "      <th>14226</th>\n",
       "      <td>0</td>\n",
       "      <td>11</td>\n",
       "      <td>3</td>\n",
       "      <td>0</td>\n",
       "      <td>npc_dota_hero_nevermore</td>\n",
       "      <td>Shadow Fiend</td>\n",
       "      <td>10</td>\n",
       "    </tr>\n",
       "    <tr>\n",
       "      <th>31233</th>\n",
       "      <td>0</td>\n",
       "      <td>67</td>\n",
       "      <td>4</td>\n",
       "      <td>0</td>\n",
       "      <td>npc_dota_hero_spectre</td>\n",
       "      <td>Spectre</td>\n",
       "      <td>65</td>\n",
       "    </tr>\n",
       "  </tbody>\n",
       "</table>\n",
       "</div>"
      ],
      "text/plain": [
       "       match_id  hero_id  player_slot  team                      name  \\\n",
       "0             0       86            0     0      npc_dota_hero_rubick   \n",
       "8183          0       51            1     0  npc_dota_hero_rattletrap   \n",
       "12484         0       83            2     0      npc_dota_hero_treant   \n",
       "14226         0       11            3     0   npc_dota_hero_nevermore   \n",
       "31233         0       67            4     0     npc_dota_hero_spectre   \n",
       "\n",
       "         localized_name  temp_id  \n",
       "0                Rubick       84  \n",
       "8183          Clockwerk       49  \n",
       "12484  Treant Protector       81  \n",
       "14226      Shadow Fiend       10  \n",
       "31233           Spectre       65  "
      ]
     },
     "execution_count": 26,
     "metadata": {},
     "output_type": "execute_result"
    }
   ],
   "source": [
    "df_first9.head()"
   ]
  },
  {
   "cell_type": "code",
   "execution_count": 27,
   "metadata": {},
   "outputs": [
    {
     "data": {
      "text/html": [
       "<div>\n",
       "<style scoped>\n",
       "    .dataframe tbody tr th:only-of-type {\n",
       "        vertical-align: middle;\n",
       "    }\n",
       "\n",
       "    .dataframe tbody tr th {\n",
       "        vertical-align: top;\n",
       "    }\n",
       "\n",
       "    .dataframe thead th {\n",
       "        text-align: right;\n",
       "    }\n",
       "</style>\n",
       "<table border=\"1\" class=\"dataframe\">\n",
       "  <thead>\n",
       "    <tr style=\"text-align: right;\">\n",
       "      <th></th>\n",
       "      <th>match_id</th>\n",
       "      <th>hero_id</th>\n",
       "      <th>player_slot</th>\n",
       "      <th>team</th>\n",
       "      <th>name</th>\n",
       "      <th>localized_name</th>\n",
       "      <th>temp_id</th>\n",
       "    </tr>\n",
       "  </thead>\n",
       "  <tbody>\n",
       "    <tr>\n",
       "      <th>66101</th>\n",
       "      <td>0</td>\n",
       "      <td>73</td>\n",
       "      <td>9</td>\n",
       "      <td>1</td>\n",
       "      <td>npc_dota_hero_alchemist</td>\n",
       "      <td>Alchemist</td>\n",
       "      <td>71</td>\n",
       "    </tr>\n",
       "    <tr>\n",
       "      <th>37894</th>\n",
       "      <td>1</td>\n",
       "      <td>106</td>\n",
       "      <td>9</td>\n",
       "      <td>1</td>\n",
       "      <td>npc_dota_hero_ember_spirit</td>\n",
       "      <td>Ember Spirit</td>\n",
       "      <td>104</td>\n",
       "    </tr>\n",
       "    <tr>\n",
       "      <th>150789</th>\n",
       "      <td>2</td>\n",
       "      <td>85</td>\n",
       "      <td>9</td>\n",
       "      <td>1</td>\n",
       "      <td>npc_dota_hero_undying</td>\n",
       "      <td>Undying</td>\n",
       "      <td>83</td>\n",
       "    </tr>\n",
       "    <tr>\n",
       "      <th>197883</th>\n",
       "      <td>3</td>\n",
       "      <td>47</td>\n",
       "      <td>9</td>\n",
       "      <td>1</td>\n",
       "      <td>npc_dota_hero_viper</td>\n",
       "      <td>Viper</td>\n",
       "      <td>45</td>\n",
       "    </tr>\n",
       "    <tr>\n",
       "      <th>95496</th>\n",
       "      <td>4</td>\n",
       "      <td>21</td>\n",
       "      <td>9</td>\n",
       "      <td>1</td>\n",
       "      <td>npc_dota_hero_windrunner</td>\n",
       "      <td>Windranger</td>\n",
       "      <td>20</td>\n",
       "    </tr>\n",
       "  </tbody>\n",
       "</table>\n",
       "</div>"
      ],
      "text/plain": [
       "        match_id  hero_id  player_slot  team                        name  \\\n",
       "66101          0       73            9     1     npc_dota_hero_alchemist   \n",
       "37894          1      106            9     1  npc_dota_hero_ember_spirit   \n",
       "150789         2       85            9     1       npc_dota_hero_undying   \n",
       "197883         3       47            9     1         npc_dota_hero_viper   \n",
       "95496          4       21            9     1    npc_dota_hero_windrunner   \n",
       "\n",
       "       localized_name  temp_id  \n",
       "66101       Alchemist       71  \n",
       "37894    Ember Spirit      104  \n",
       "150789        Undying       83  \n",
       "197883          Viper       45  \n",
       "95496      Windranger       20  "
      ]
     },
     "execution_count": 27,
     "metadata": {},
     "output_type": "execute_result"
    }
   ],
   "source": [
    "df_final_pick.head()"
   ]
  },
  {
   "cell_type": "code",
   "execution_count": 28,
   "metadata": {},
   "outputs": [
    {
     "data": {
      "text/plain": [
       "49997"
      ]
     },
     "execution_count": 28,
     "metadata": {},
     "output_type": "execute_result"
    }
   ],
   "source": [
    "len(df_final_pick)\n"
   ]
  },
  {
   "cell_type": "code",
   "execution_count": 29,
   "metadata": {},
   "outputs": [
    {
     "data": {
      "text/plain": [
       "49996.22222222222"
      ]
     },
     "execution_count": 29,
     "metadata": {},
     "output_type": "execute_result"
    }
   ],
   "source": [
    "len(df_first9)/9"
   ]
  },
  {
   "cell_type": "code",
   "execution_count": 30,
   "metadata": {
    "scrolled": true
   },
   "outputs": [
    {
     "data": {
      "text/plain": [
       "86"
      ]
     },
     "execution_count": 30,
     "metadata": {},
     "output_type": "execute_result"
    }
   ],
   "source": [
    "df_merged['hero_id'][0]"
   ]
  },
  {
   "cell_type": "code",
   "execution_count": 31,
   "metadata": {},
   "outputs": [],
   "source": [
    "df_other_picks = pd.DataFrame(df_first9.groupby(\"match_id\")['temp_id'].agg(list).reset_index())\n",
    "df_other_picks.rename(columns={\"temp_id\": \"heroes\"}, inplace=True)\n",
    "df_teams = pd.DataFrame(df_first9.groupby(\"match_id\")['team'].agg(list).reset_index())\n",
    "df_teams.rename(columns={\"team\": \"teams\"}, inplace=True)"
   ]
  },
  {
   "cell_type": "code",
   "execution_count": 32,
   "metadata": {},
   "outputs": [
    {
     "data": {
      "text/html": [
       "<div>\n",
       "<style scoped>\n",
       "    .dataframe tbody tr th:only-of-type {\n",
       "        vertical-align: middle;\n",
       "    }\n",
       "\n",
       "    .dataframe tbody tr th {\n",
       "        vertical-align: top;\n",
       "    }\n",
       "\n",
       "    .dataframe thead th {\n",
       "        text-align: right;\n",
       "    }\n",
       "</style>\n",
       "<table border=\"1\" class=\"dataframe\">\n",
       "  <thead>\n",
       "    <tr style=\"text-align: right;\">\n",
       "      <th></th>\n",
       "      <th>match_id</th>\n",
       "      <th>hero_id</th>\n",
       "      <th>player_slot</th>\n",
       "      <th>team</th>\n",
       "      <th>name</th>\n",
       "      <th>localized_name</th>\n",
       "      <th>temp_id</th>\n",
       "    </tr>\n",
       "  </thead>\n",
       "  <tbody>\n",
       "    <tr>\n",
       "      <th>66101</th>\n",
       "      <td>0</td>\n",
       "      <td>73</td>\n",
       "      <td>9</td>\n",
       "      <td>1</td>\n",
       "      <td>npc_dota_hero_alchemist</td>\n",
       "      <td>Alchemist</td>\n",
       "      <td>71</td>\n",
       "    </tr>\n",
       "    <tr>\n",
       "      <th>37894</th>\n",
       "      <td>1</td>\n",
       "      <td>106</td>\n",
       "      <td>9</td>\n",
       "      <td>1</td>\n",
       "      <td>npc_dota_hero_ember_spirit</td>\n",
       "      <td>Ember Spirit</td>\n",
       "      <td>104</td>\n",
       "    </tr>\n",
       "    <tr>\n",
       "      <th>150789</th>\n",
       "      <td>2</td>\n",
       "      <td>85</td>\n",
       "      <td>9</td>\n",
       "      <td>1</td>\n",
       "      <td>npc_dota_hero_undying</td>\n",
       "      <td>Undying</td>\n",
       "      <td>83</td>\n",
       "    </tr>\n",
       "    <tr>\n",
       "      <th>197883</th>\n",
       "      <td>3</td>\n",
       "      <td>47</td>\n",
       "      <td>9</td>\n",
       "      <td>1</td>\n",
       "      <td>npc_dota_hero_viper</td>\n",
       "      <td>Viper</td>\n",
       "      <td>45</td>\n",
       "    </tr>\n",
       "    <tr>\n",
       "      <th>95496</th>\n",
       "      <td>4</td>\n",
       "      <td>21</td>\n",
       "      <td>9</td>\n",
       "      <td>1</td>\n",
       "      <td>npc_dota_hero_windrunner</td>\n",
       "      <td>Windranger</td>\n",
       "      <td>20</td>\n",
       "    </tr>\n",
       "  </tbody>\n",
       "</table>\n",
       "</div>"
      ],
      "text/plain": [
       "        match_id  hero_id  player_slot  team                        name  \\\n",
       "66101          0       73            9     1     npc_dota_hero_alchemist   \n",
       "37894          1      106            9     1  npc_dota_hero_ember_spirit   \n",
       "150789         2       85            9     1       npc_dota_hero_undying   \n",
       "197883         3       47            9     1         npc_dota_hero_viper   \n",
       "95496          4       21            9     1    npc_dota_hero_windrunner   \n",
       "\n",
       "       localized_name  temp_id  \n",
       "66101       Alchemist       71  \n",
       "37894    Ember Spirit      104  \n",
       "150789        Undying       83  \n",
       "197883          Viper       45  \n",
       "95496      Windranger       20  "
      ]
     },
     "execution_count": 32,
     "metadata": {},
     "output_type": "execute_result"
    }
   ],
   "source": [
    "df_final_pick.head()"
   ]
  },
  {
   "cell_type": "code",
   "execution_count": 33,
   "metadata": {},
   "outputs": [
    {
     "data": {
      "text/html": [
       "<div>\n",
       "<style scoped>\n",
       "    .dataframe tbody tr th:only-of-type {\n",
       "        vertical-align: middle;\n",
       "    }\n",
       "\n",
       "    .dataframe tbody tr th {\n",
       "        vertical-align: top;\n",
       "    }\n",
       "\n",
       "    .dataframe thead th {\n",
       "        text-align: right;\n",
       "    }\n",
       "</style>\n",
       "<table border=\"1\" class=\"dataframe\">\n",
       "  <thead>\n",
       "    <tr style=\"text-align: right;\">\n",
       "      <th></th>\n",
       "      <th>match_id</th>\n",
       "      <th>heroes</th>\n",
       "    </tr>\n",
       "  </thead>\n",
       "  <tbody>\n",
       "    <tr>\n",
       "      <th>0</th>\n",
       "      <td>0</td>\n",
       "      <td>[84, 49, 81, 10, 65, 104, 100, 44, 6]</td>\n",
       "    </tr>\n",
       "    <tr>\n",
       "      <th>1</th>\n",
       "      <td>1</td>\n",
       "      <td>[6, 80, 69, 37, 20, 71, 21, 4, 65]</td>\n",
       "    </tr>\n",
       "    <tr>\n",
       "      <th>2</th>\n",
       "      <td>2</td>\n",
       "      <td>[49, 106, 8, 39, 25, 36, 6, 9, 11]</td>\n",
       "    </tr>\n",
       "    <tr>\n",
       "      <th>3</th>\n",
       "      <td>3</td>\n",
       "      <td>[48, 42, 30, 24, 37, 76, 18, 29, 38]</td>\n",
       "    </tr>\n",
       "    <tr>\n",
       "      <th>4</th>\n",
       "      <td>4</td>\n",
       "      <td>[7, 37, 53, 85, 67, 99, 98, 21, 65]</td>\n",
       "    </tr>\n",
       "  </tbody>\n",
       "</table>\n",
       "</div>"
      ],
      "text/plain": [
       "   match_id                                 heroes\n",
       "0         0  [84, 49, 81, 10, 65, 104, 100, 44, 6]\n",
       "1         1     [6, 80, 69, 37, 20, 71, 21, 4, 65]\n",
       "2         2     [49, 106, 8, 39, 25, 36, 6, 9, 11]\n",
       "3         3   [48, 42, 30, 24, 37, 76, 18, 29, 38]\n",
       "4         4    [7, 37, 53, 85, 67, 99, 98, 21, 65]"
      ]
     },
     "execution_count": 33,
     "metadata": {},
     "output_type": "execute_result"
    }
   ],
   "source": [
    "df_other_picks.head()"
   ]
  },
  {
   "cell_type": "code",
   "execution_count": 34,
   "metadata": {},
   "outputs": [
    {
     "data": {
      "text/html": [
       "<div>\n",
       "<style scoped>\n",
       "    .dataframe tbody tr th:only-of-type {\n",
       "        vertical-align: middle;\n",
       "    }\n",
       "\n",
       "    .dataframe tbody tr th {\n",
       "        vertical-align: top;\n",
       "    }\n",
       "\n",
       "    .dataframe thead th {\n",
       "        text-align: right;\n",
       "    }\n",
       "</style>\n",
       "<table border=\"1\" class=\"dataframe\">\n",
       "  <thead>\n",
       "    <tr style=\"text-align: right;\">\n",
       "      <th></th>\n",
       "      <th>match_id</th>\n",
       "      <th>teams</th>\n",
       "    </tr>\n",
       "  </thead>\n",
       "  <tbody>\n",
       "    <tr>\n",
       "      <th>0</th>\n",
       "      <td>0</td>\n",
       "      <td>[0, 0, 0, 0, 0, 1, 1, 1, 1]</td>\n",
       "    </tr>\n",
       "    <tr>\n",
       "      <th>1</th>\n",
       "      <td>1</td>\n",
       "      <td>[0, 0, 0, 0, 0, 1, 1, 1, 1]</td>\n",
       "    </tr>\n",
       "    <tr>\n",
       "      <th>2</th>\n",
       "      <td>2</td>\n",
       "      <td>[0, 0, 0, 0, 0, 1, 1, 1, 1]</td>\n",
       "    </tr>\n",
       "    <tr>\n",
       "      <th>3</th>\n",
       "      <td>3</td>\n",
       "      <td>[0, 0, 0, 0, 0, 1, 1, 1, 1]</td>\n",
       "    </tr>\n",
       "    <tr>\n",
       "      <th>4</th>\n",
       "      <td>4</td>\n",
       "      <td>[0, 0, 0, 0, 0, 1, 1, 1, 1]</td>\n",
       "    </tr>\n",
       "  </tbody>\n",
       "</table>\n",
       "</div>"
      ],
      "text/plain": [
       "   match_id                        teams\n",
       "0         0  [0, 0, 0, 0, 0, 1, 1, 1, 1]\n",
       "1         1  [0, 0, 0, 0, 0, 1, 1, 1, 1]\n",
       "2         2  [0, 0, 0, 0, 0, 1, 1, 1, 1]\n",
       "3         3  [0, 0, 0, 0, 0, 1, 1, 1, 1]\n",
       "4         4  [0, 0, 0, 0, 0, 1, 1, 1, 1]"
      ]
     },
     "execution_count": 34,
     "metadata": {},
     "output_type": "execute_result"
    }
   ],
   "source": [
    "# the order shouldn't matter here except for the teams, since it will always be predicting the final dire pick\n",
    "# this is the same as using different heroes ids for each hero on the teams....?\n",
    "df_teams.head()"
   ]
  },
  {
   "cell_type": "code",
   "execution_count": 35,
   "metadata": {},
   "outputs": [],
   "source": [
    "df_final_pick.reset_index(inplace=True)"
   ]
  },
  {
   "cell_type": "code",
   "execution_count": 36,
   "metadata": {},
   "outputs": [],
   "source": [
    "df_final = pd.concat([df_other_picks, df_teams, df_final_pick], axis=1)"
   ]
  },
  {
   "cell_type": "code",
   "execution_count": 37,
   "metadata": {},
   "outputs": [],
   "source": [
    "df_final = df_final.loc[:,~df_final.columns.duplicated()].drop(['index', 'player_slot','name','localized_name'], axis=1)"
   ]
  },
  {
   "cell_type": "code",
   "execution_count": 38,
   "metadata": {
    "scrolled": false
   },
   "outputs": [
    {
     "data": {
      "text/html": [
       "<div>\n",
       "<style scoped>\n",
       "    .dataframe tbody tr th:only-of-type {\n",
       "        vertical-align: middle;\n",
       "    }\n",
       "\n",
       "    .dataframe tbody tr th {\n",
       "        vertical-align: top;\n",
       "    }\n",
       "\n",
       "    .dataframe thead th {\n",
       "        text-align: right;\n",
       "    }\n",
       "</style>\n",
       "<table border=\"1\" class=\"dataframe\">\n",
       "  <thead>\n",
       "    <tr style=\"text-align: right;\">\n",
       "      <th></th>\n",
       "      <th>match_id</th>\n",
       "      <th>heroes</th>\n",
       "      <th>teams</th>\n",
       "      <th>hero_id</th>\n",
       "      <th>team</th>\n",
       "      <th>temp_id</th>\n",
       "    </tr>\n",
       "  </thead>\n",
       "  <tbody>\n",
       "    <tr>\n",
       "      <th>0</th>\n",
       "      <td>0</td>\n",
       "      <td>[84, 49, 81, 10, 65, 104, 100, 44, 6]</td>\n",
       "      <td>[0, 0, 0, 0, 0, 1, 1, 1, 1]</td>\n",
       "      <td>73.0</td>\n",
       "      <td>1.0</td>\n",
       "      <td>71.0</td>\n",
       "    </tr>\n",
       "    <tr>\n",
       "      <th>1</th>\n",
       "      <td>1</td>\n",
       "      <td>[6, 80, 69, 37, 20, 71, 21, 4, 65]</td>\n",
       "      <td>[0, 0, 0, 0, 0, 1, 1, 1, 1]</td>\n",
       "      <td>106.0</td>\n",
       "      <td>1.0</td>\n",
       "      <td>104.0</td>\n",
       "    </tr>\n",
       "    <tr>\n",
       "      <th>2</th>\n",
       "      <td>2</td>\n",
       "      <td>[49, 106, 8, 39, 25, 36, 6, 9, 11]</td>\n",
       "      <td>[0, 0, 0, 0, 0, 1, 1, 1, 1]</td>\n",
       "      <td>85.0</td>\n",
       "      <td>1.0</td>\n",
       "      <td>83.0</td>\n",
       "    </tr>\n",
       "    <tr>\n",
       "      <th>3</th>\n",
       "      <td>3</td>\n",
       "      <td>[48, 42, 30, 24, 37, 76, 18, 29, 38]</td>\n",
       "      <td>[0, 0, 0, 0, 0, 1, 1, 1, 1]</td>\n",
       "      <td>47.0</td>\n",
       "      <td>1.0</td>\n",
       "      <td>45.0</td>\n",
       "    </tr>\n",
       "    <tr>\n",
       "      <th>4</th>\n",
       "      <td>4</td>\n",
       "      <td>[7, 37, 53, 85, 67, 99, 98, 21, 65]</td>\n",
       "      <td>[0, 0, 0, 0, 0, 1, 1, 1, 1]</td>\n",
       "      <td>21.0</td>\n",
       "      <td>1.0</td>\n",
       "      <td>20.0</td>\n",
       "    </tr>\n",
       "  </tbody>\n",
       "</table>\n",
       "</div>"
      ],
      "text/plain": [
       "   match_id                                 heroes  \\\n",
       "0         0  [84, 49, 81, 10, 65, 104, 100, 44, 6]   \n",
       "1         1     [6, 80, 69, 37, 20, 71, 21, 4, 65]   \n",
       "2         2     [49, 106, 8, 39, 25, 36, 6, 9, 11]   \n",
       "3         3   [48, 42, 30, 24, 37, 76, 18, 29, 38]   \n",
       "4         4    [7, 37, 53, 85, 67, 99, 98, 21, 65]   \n",
       "\n",
       "                         teams  hero_id  team  temp_id  \n",
       "0  [0, 0, 0, 0, 0, 1, 1, 1, 1]     73.0   1.0     71.0  \n",
       "1  [0, 0, 0, 0, 0, 1, 1, 1, 1]    106.0   1.0    104.0  \n",
       "2  [0, 0, 0, 0, 0, 1, 1, 1, 1]     85.0   1.0     83.0  \n",
       "3  [0, 0, 0, 0, 0, 1, 1, 1, 1]     47.0   1.0     45.0  \n",
       "4  [0, 0, 0, 0, 0, 1, 1, 1, 1]     21.0   1.0     20.0  "
      ]
     },
     "execution_count": 38,
     "metadata": {},
     "output_type": "execute_result"
    }
   ],
   "source": [
    "df_final.head()"
   ]
  },
  {
   "cell_type": "markdown",
   "metadata": {},
   "source": [
    "We will now use the team and the heroes present to predict the "
   ]
  },
  {
   "cell_type": "code",
   "execution_count": 39,
   "metadata": {
    "scrolled": true
   },
   "outputs": [
    {
     "data": {
      "text/plain": [
       "array([[0., 0., 0., 0., 0., 0., 1., 0., 0., 0., 0., 0., 0., 0., 0., 0.,\n",
       "        0., 0., 0., 0., 0., 0., 0., 0., 0., 0., 0., 0., 0., 0., 0., 0.,\n",
       "        0., 0., 0., 0., 0., 0., 0., 0., 0., 0., 0., 0., 0., 0., 0., 0.,\n",
       "        0., 0., 0., 0., 0., 0., 0., 0., 0., 0., 0., 0., 0., 0., 0., 0.,\n",
       "        0., 0., 0., 0., 0., 0., 0., 0., 0., 0., 0., 0., 0., 0., 0., 0.,\n",
       "        0., 0., 0., 0., 0., 0., 0., 0., 0., 0., 0., 0., 0., 0., 0., 0.,\n",
       "        0., 0., 0., 0., 0., 0., 0., 0., 0., 0., 0., 0., 0., 0.],\n",
       "       [0., 0., 0., 0., 0., 0., 0., 0., 0., 0., 0., 0., 0., 0., 0., 0.,\n",
       "        0., 0., 0., 0., 0., 0., 0., 0., 0., 0., 0., 0., 0., 0., 0., 0.,\n",
       "        0., 0., 0., 0., 0., 0., 0., 0., 0., 0., 0., 0., 0., 0., 0., 0.,\n",
       "        0., 0., 0., 0., 0., 0., 0., 0., 0., 0., 0., 0., 0., 0., 0., 0.,\n",
       "        0., 0., 0., 0., 0., 0., 0., 0., 0., 0., 0., 0., 0., 0., 0., 0.,\n",
       "        1., 0., 0., 0., 0., 0., 0., 0., 0., 0., 0., 0., 0., 0., 0., 0.,\n",
       "        0., 0., 0., 0., 0., 0., 0., 0., 0., 0., 0., 0., 0., 0.],\n",
       "       [0., 0., 0., 0., 0., 0., 0., 0., 0., 0., 0., 0., 0., 0., 0., 0.,\n",
       "        0., 0., 0., 0., 0., 0., 0., 0., 0., 0., 0., 0., 0., 0., 0., 0.,\n",
       "        0., 0., 0., 0., 0., 0., 0., 0., 0., 0., 0., 0., 0., 0., 0., 0.,\n",
       "        0., 0., 0., 0., 0., 0., 0., 0., 0., 0., 0., 0., 0., 0., 0., 0.,\n",
       "        0., 0., 0., 0., 0., 1., 0., 0., 0., 0., 0., 0., 0., 0., 0., 0.,\n",
       "        0., 0., 0., 0., 0., 0., 0., 0., 0., 0., 0., 0., 0., 0., 0., 0.,\n",
       "        0., 0., 0., 0., 0., 0., 0., 0., 0., 0., 0., 0., 0., 0.],\n",
       "       [0., 0., 0., 0., 0., 0., 0., 0., 0., 0., 0., 0., 0., 0., 0., 0.,\n",
       "        0., 0., 0., 0., 0., 0., 0., 0., 0., 0., 0., 0., 0., 0., 0., 0.,\n",
       "        0., 0., 0., 0., 0., 1., 0., 0., 0., 0., 0., 0., 0., 0., 0., 0.,\n",
       "        0., 0., 0., 0., 0., 0., 0., 0., 0., 0., 0., 0., 0., 0., 0., 0.,\n",
       "        0., 0., 0., 0., 0., 0., 0., 0., 0., 0., 0., 0., 0., 0., 0., 0.,\n",
       "        0., 0., 0., 0., 0., 0., 0., 0., 0., 0., 0., 0., 0., 0., 0., 0.,\n",
       "        0., 0., 0., 0., 0., 0., 0., 0., 0., 0., 0., 0., 0., 0.],\n",
       "       [0., 0., 0., 0., 0., 0., 0., 0., 0., 0., 0., 0., 0., 0., 0., 0.,\n",
       "        0., 0., 0., 0., 1., 0., 0., 0., 0., 0., 0., 0., 0., 0., 0., 0.,\n",
       "        0., 0., 0., 0., 0., 0., 0., 0., 0., 0., 0., 0., 0., 0., 0., 0.,\n",
       "        0., 0., 0., 0., 0., 0., 0., 0., 0., 0., 0., 0., 0., 0., 0., 0.,\n",
       "        0., 0., 0., 0., 0., 0., 0., 0., 0., 0., 0., 0., 0., 0., 0., 0.,\n",
       "        0., 0., 0., 0., 0., 0., 0., 0., 0., 0., 0., 0., 0., 0., 0., 0.,\n",
       "        0., 0., 0., 0., 0., 0., 0., 0., 0., 0., 0., 0., 0., 0.],\n",
       "       [0., 0., 0., 0., 0., 0., 0., 0., 0., 0., 0., 0., 0., 0., 0., 0.,\n",
       "        0., 0., 0., 0., 0., 0., 0., 0., 0., 0., 0., 0., 0., 0., 0., 0.,\n",
       "        0., 0., 0., 0., 0., 0., 0., 0., 0., 0., 0., 0., 0., 0., 0., 0.,\n",
       "        0., 0., 0., 0., 0., 0., 0., 0., 0., 0., 0., 0., 0., 0., 0., 0.,\n",
       "        0., 0., 0., 0., 0., 0., 0., 1., 0., 0., 0., 0., 0., 0., 0., 0.,\n",
       "        0., 0., 0., 0., 0., 0., 0., 0., 0., 0., 0., 0., 0., 0., 0., 0.,\n",
       "        0., 0., 0., 0., 0., 0., 0., 0., 0., 0., 0., 0., 0., 0.],\n",
       "       [0., 0., 0., 0., 0., 0., 0., 0., 0., 0., 0., 0., 0., 0., 0., 0.,\n",
       "        0., 0., 0., 0., 0., 1., 0., 0., 0., 0., 0., 0., 0., 0., 0., 0.,\n",
       "        0., 0., 0., 0., 0., 0., 0., 0., 0., 0., 0., 0., 0., 0., 0., 0.,\n",
       "        0., 0., 0., 0., 0., 0., 0., 0., 0., 0., 0., 0., 0., 0., 0., 0.,\n",
       "        0., 0., 0., 0., 0., 0., 0., 0., 0., 0., 0., 0., 0., 0., 0., 0.,\n",
       "        0., 0., 0., 0., 0., 0., 0., 0., 0., 0., 0., 0., 0., 0., 0., 0.,\n",
       "        0., 0., 0., 0., 0., 0., 0., 0., 0., 0., 0., 0., 0., 0.],\n",
       "       [0., 0., 0., 0., 1., 0., 0., 0., 0., 0., 0., 0., 0., 0., 0., 0.,\n",
       "        0., 0., 0., 0., 0., 0., 0., 0., 0., 0., 0., 0., 0., 0., 0., 0.,\n",
       "        0., 0., 0., 0., 0., 0., 0., 0., 0., 0., 0., 0., 0., 0., 0., 0.,\n",
       "        0., 0., 0., 0., 0., 0., 0., 0., 0., 0., 0., 0., 0., 0., 0., 0.,\n",
       "        0., 0., 0., 0., 0., 0., 0., 0., 0., 0., 0., 0., 0., 0., 0., 0.,\n",
       "        0., 0., 0., 0., 0., 0., 0., 0., 0., 0., 0., 0., 0., 0., 0., 0.,\n",
       "        0., 0., 0., 0., 0., 0., 0., 0., 0., 0., 0., 0., 0., 0.],\n",
       "       [0., 0., 0., 0., 0., 0., 0., 0., 0., 0., 0., 0., 0., 0., 0., 0.,\n",
       "        0., 0., 0., 0., 0., 0., 0., 0., 0., 0., 0., 0., 0., 0., 0., 0.,\n",
       "        0., 0., 0., 0., 0., 0., 0., 0., 0., 0., 0., 0., 0., 0., 0., 0.,\n",
       "        0., 0., 0., 0., 0., 0., 0., 0., 0., 0., 0., 0., 0., 0., 0., 0.,\n",
       "        0., 1., 0., 0., 0., 0., 0., 0., 0., 0., 0., 0., 0., 0., 0., 0.,\n",
       "        0., 0., 0., 0., 0., 0., 0., 0., 0., 0., 0., 0., 0., 0., 0., 0.,\n",
       "        0., 0., 0., 0., 0., 0., 0., 0., 0., 0., 0., 0., 0., 0.]])"
      ]
     },
     "execution_count": 39,
     "metadata": {},
     "output_type": "execute_result"
    }
   ],
   "source": [
    "np.set_printoptions(threshold=sys.maxsize)\n",
    "np.eye(n_heroes)[df_final['heroes'][1]]"
   ]
  },
  {
   "cell_type": "code",
   "execution_count": 40,
   "metadata": {},
   "outputs": [
    {
     "data": {
      "text/html": [
       "<div>\n",
       "<style scoped>\n",
       "    .dataframe tbody tr th:only-of-type {\n",
       "        vertical-align: middle;\n",
       "    }\n",
       "\n",
       "    .dataframe tbody tr th {\n",
       "        vertical-align: top;\n",
       "    }\n",
       "\n",
       "    .dataframe thead th {\n",
       "        text-align: right;\n",
       "    }\n",
       "</style>\n",
       "<table border=\"1\" class=\"dataframe\">\n",
       "  <thead>\n",
       "    <tr style=\"text-align: right;\">\n",
       "      <th></th>\n",
       "      <th>match_id</th>\n",
       "      <th>heroes</th>\n",
       "      <th>teams</th>\n",
       "      <th>hero_id</th>\n",
       "      <th>team</th>\n",
       "      <th>temp_id</th>\n",
       "    </tr>\n",
       "  </thead>\n",
       "  <tbody>\n",
       "    <tr>\n",
       "      <th>49990</th>\n",
       "      <td>49990</td>\n",
       "      <td>[1, 98, 73, 79, 10, 107, 37, 9, 25]</td>\n",
       "      <td>[0, 0, 0, 0, 0, 1, 1, 1, 1]</td>\n",
       "      <td>100.0</td>\n",
       "      <td>1.0</td>\n",
       "      <td>98.0</td>\n",
       "    </tr>\n",
       "    <tr>\n",
       "      <th>49991</th>\n",
       "      <td>49991</td>\n",
       "      <td>[91, 102, 6, 48, 22, 60, 105, 17, 86]</td>\n",
       "      <td>[0, 0, 0, 0, 0, 1, 1, 1, 1]</td>\n",
       "      <td>21.0</td>\n",
       "      <td>1.0</td>\n",
       "      <td>20.0</td>\n",
       "    </tr>\n",
       "    <tr>\n",
       "      <th>49992</th>\n",
       "      <td>49992</td>\n",
       "      <td>[12, 84, 6, 11, 98, 71, 29, 33, 23]</td>\n",
       "      <td>[0, 0, 0, 0, 0, 1, 1, 1, 1]</td>\n",
       "      <td>112.0</td>\n",
       "      <td>1.0</td>\n",
       "      <td>109.0</td>\n",
       "    </tr>\n",
       "    <tr>\n",
       "      <th>49993</th>\n",
       "      <td>49993</td>\n",
       "      <td>[18, 73, 13, 2, 32, 37, 5, 71, 28]</td>\n",
       "      <td>[0, 0, 0, 0, 0, 1, 1, 1, 1]</td>\n",
       "      <td>71.0</td>\n",
       "      <td>1.0</td>\n",
       "      <td>69.0</td>\n",
       "    </tr>\n",
       "    <tr>\n",
       "      <th>49994</th>\n",
       "      <td>49994</td>\n",
       "      <td>[42, 88, 19, 95, 104, 96, 30, 27, 67]</td>\n",
       "      <td>[0, 0, 0, 0, 0, 1, 1, 1, 1]</td>\n",
       "      <td>23.0</td>\n",
       "      <td>1.0</td>\n",
       "      <td>22.0</td>\n",
       "    </tr>\n",
       "    <tr>\n",
       "      <th>49995</th>\n",
       "      <td>49995</td>\n",
       "      <td>[71, 84, 20, 19, 13, 30, 6, 106, 33]</td>\n",
       "      <td>[0, 0, 0, 0, 0, 1, 1, 1, 1]</td>\n",
       "      <td>3.0</td>\n",
       "      <td>1.0</td>\n",
       "      <td>2.0</td>\n",
       "    </tr>\n",
       "    <tr>\n",
       "      <th>49996</th>\n",
       "      <td>49996</td>\n",
       "      <td>[91, 72, 98, 30, 83, 34, 0, 109, 58]</td>\n",
       "      <td>[0, 0, 0, 0, 0, 1, 1, 1, 1]</td>\n",
       "      <td>53.0</td>\n",
       "      <td>1.0</td>\n",
       "      <td>51.0</td>\n",
       "    </tr>\n",
       "    <tr>\n",
       "      <th>49997</th>\n",
       "      <td>49997</td>\n",
       "      <td>[98, 66, 73, 37, 42, 26, 100, 20, 8]</td>\n",
       "      <td>[0, 0, 0, 0, 0, 1, 1, 1, 1]</td>\n",
       "      <td>NaN</td>\n",
       "      <td>NaN</td>\n",
       "      <td>NaN</td>\n",
       "    </tr>\n",
       "    <tr>\n",
       "      <th>49998</th>\n",
       "      <td>49998</td>\n",
       "      <td>[54, 48, 1, 70, 28, 44, 6, 27, 42]</td>\n",
       "      <td>[0, 0, 0, 0, 0, 1, 1, 1, 1]</td>\n",
       "      <td>NaN</td>\n",
       "      <td>NaN</td>\n",
       "      <td>NaN</td>\n",
       "    </tr>\n",
       "    <tr>\n",
       "      <th>49999</th>\n",
       "      <td>49999</td>\n",
       "      <td>[92, 18, 66, 33, 20, 98, 8, 88, 71]</td>\n",
       "      <td>[0, 0, 0, 0, 0, 1, 1, 1, 1]</td>\n",
       "      <td>NaN</td>\n",
       "      <td>NaN</td>\n",
       "      <td>NaN</td>\n",
       "    </tr>\n",
       "  </tbody>\n",
       "</table>\n",
       "</div>"
      ],
      "text/plain": [
       "       match_id                                 heroes  \\\n",
       "49990     49990    [1, 98, 73, 79, 10, 107, 37, 9, 25]   \n",
       "49991     49991  [91, 102, 6, 48, 22, 60, 105, 17, 86]   \n",
       "49992     49992    [12, 84, 6, 11, 98, 71, 29, 33, 23]   \n",
       "49993     49993     [18, 73, 13, 2, 32, 37, 5, 71, 28]   \n",
       "49994     49994  [42, 88, 19, 95, 104, 96, 30, 27, 67]   \n",
       "49995     49995   [71, 84, 20, 19, 13, 30, 6, 106, 33]   \n",
       "49996     49996   [91, 72, 98, 30, 83, 34, 0, 109, 58]   \n",
       "49997     49997   [98, 66, 73, 37, 42, 26, 100, 20, 8]   \n",
       "49998     49998     [54, 48, 1, 70, 28, 44, 6, 27, 42]   \n",
       "49999     49999    [92, 18, 66, 33, 20, 98, 8, 88, 71]   \n",
       "\n",
       "                             teams  hero_id  team  temp_id  \n",
       "49990  [0, 0, 0, 0, 0, 1, 1, 1, 1]    100.0   1.0     98.0  \n",
       "49991  [0, 0, 0, 0, 0, 1, 1, 1, 1]     21.0   1.0     20.0  \n",
       "49992  [0, 0, 0, 0, 0, 1, 1, 1, 1]    112.0   1.0    109.0  \n",
       "49993  [0, 0, 0, 0, 0, 1, 1, 1, 1]     71.0   1.0     69.0  \n",
       "49994  [0, 0, 0, 0, 0, 1, 1, 1, 1]     23.0   1.0     22.0  \n",
       "49995  [0, 0, 0, 0, 0, 1, 1, 1, 1]      3.0   1.0      2.0  \n",
       "49996  [0, 0, 0, 0, 0, 1, 1, 1, 1]     53.0   1.0     51.0  \n",
       "49997  [0, 0, 0, 0, 0, 1, 1, 1, 1]      NaN   NaN      NaN  \n",
       "49998  [0, 0, 0, 0, 0, 1, 1, 1, 1]      NaN   NaN      NaN  \n",
       "49999  [0, 0, 0, 0, 0, 1, 1, 1, 1]      NaN   NaN      NaN  "
      ]
     },
     "execution_count": 40,
     "metadata": {},
     "output_type": "execute_result"
    }
   ],
   "source": [
    "df_final.tail(10)"
   ]
  },
  {
   "cell_type": "code",
   "execution_count": 41,
   "metadata": {
    "scrolled": true
   },
   "outputs": [
    {
     "data": {
      "text/html": [
       "<div>\n",
       "<style scoped>\n",
       "    .dataframe tbody tr th:only-of-type {\n",
       "        vertical-align: middle;\n",
       "    }\n",
       "\n",
       "    .dataframe tbody tr th {\n",
       "        vertical-align: top;\n",
       "    }\n",
       "\n",
       "    .dataframe thead th {\n",
       "        text-align: right;\n",
       "    }\n",
       "</style>\n",
       "<table border=\"1\" class=\"dataframe\">\n",
       "  <thead>\n",
       "    <tr style=\"text-align: right;\">\n",
       "      <th></th>\n",
       "      <th>match_id</th>\n",
       "      <th>heroes</th>\n",
       "      <th>teams</th>\n",
       "      <th>hero_id</th>\n",
       "      <th>team</th>\n",
       "      <th>temp_id</th>\n",
       "    </tr>\n",
       "  </thead>\n",
       "  <tbody>\n",
       "    <tr>\n",
       "      <th>49997</th>\n",
       "      <td>49997</td>\n",
       "      <td>[98, 66, 73, 37, 42, 26, 100, 20, 8]</td>\n",
       "      <td>[0, 0, 0, 0, 0, 1, 1, 1, 1]</td>\n",
       "      <td>NaN</td>\n",
       "      <td>NaN</td>\n",
       "      <td>NaN</td>\n",
       "    </tr>\n",
       "    <tr>\n",
       "      <th>49998</th>\n",
       "      <td>49998</td>\n",
       "      <td>[54, 48, 1, 70, 28, 44, 6, 27, 42]</td>\n",
       "      <td>[0, 0, 0, 0, 0, 1, 1, 1, 1]</td>\n",
       "      <td>NaN</td>\n",
       "      <td>NaN</td>\n",
       "      <td>NaN</td>\n",
       "    </tr>\n",
       "    <tr>\n",
       "      <th>49999</th>\n",
       "      <td>49999</td>\n",
       "      <td>[92, 18, 66, 33, 20, 98, 8, 88, 71]</td>\n",
       "      <td>[0, 0, 0, 0, 0, 1, 1, 1, 1]</td>\n",
       "      <td>NaN</td>\n",
       "      <td>NaN</td>\n",
       "      <td>NaN</td>\n",
       "    </tr>\n",
       "  </tbody>\n",
       "</table>\n",
       "</div>"
      ],
      "text/plain": [
       "       match_id                                heroes  \\\n",
       "49997     49997  [98, 66, 73, 37, 42, 26, 100, 20, 8]   \n",
       "49998     49998    [54, 48, 1, 70, 28, 44, 6, 27, 42]   \n",
       "49999     49999   [92, 18, 66, 33, 20, 98, 8, 88, 71]   \n",
       "\n",
       "                             teams  hero_id  team  temp_id  \n",
       "49997  [0, 0, 0, 0, 0, 1, 1, 1, 1]      NaN   NaN      NaN  \n",
       "49998  [0, 0, 0, 0, 0, 1, 1, 1, 1]      NaN   NaN      NaN  \n",
       "49999  [0, 0, 0, 0, 0, 1, 1, 1, 1]      NaN   NaN      NaN  "
      ]
     },
     "execution_count": 41,
     "metadata": {},
     "output_type": "execute_result"
    }
   ],
   "source": [
    "df_final[df_final.isna().any(axis=1)]"
   ]
  },
  {
   "cell_type": "code",
   "execution_count": 42,
   "metadata": {},
   "outputs": [
    {
     "data": {
      "text/html": [
       "<div>\n",
       "<style scoped>\n",
       "    .dataframe tbody tr th:only-of-type {\n",
       "        vertical-align: middle;\n",
       "    }\n",
       "\n",
       "    .dataframe tbody tr th {\n",
       "        vertical-align: top;\n",
       "    }\n",
       "\n",
       "    .dataframe thead th {\n",
       "        text-align: right;\n",
       "    }\n",
       "</style>\n",
       "<table border=\"1\" class=\"dataframe\">\n",
       "  <thead>\n",
       "    <tr style=\"text-align: right;\">\n",
       "      <th></th>\n",
       "      <th>match_id</th>\n",
       "      <th>heroes</th>\n",
       "      <th>teams</th>\n",
       "      <th>hero_id</th>\n",
       "      <th>team</th>\n",
       "      <th>temp_id</th>\n",
       "    </tr>\n",
       "  </thead>\n",
       "  <tbody>\n",
       "    <tr>\n",
       "      <th>0</th>\n",
       "      <td>0</td>\n",
       "      <td>[84, 49, 81, 10, 65, 104, 100, 44, 6]</td>\n",
       "      <td>[0, 0, 0, 0, 0, 1, 1, 1, 1]</td>\n",
       "      <td>73.0</td>\n",
       "      <td>1.0</td>\n",
       "      <td>71.0</td>\n",
       "    </tr>\n",
       "    <tr>\n",
       "      <th>1</th>\n",
       "      <td>1</td>\n",
       "      <td>[6, 80, 69, 37, 20, 71, 21, 4, 65]</td>\n",
       "      <td>[0, 0, 0, 0, 0, 1, 1, 1, 1]</td>\n",
       "      <td>106.0</td>\n",
       "      <td>1.0</td>\n",
       "      <td>104.0</td>\n",
       "    </tr>\n",
       "    <tr>\n",
       "      <th>2</th>\n",
       "      <td>2</td>\n",
       "      <td>[49, 106, 8, 39, 25, 36, 6, 9, 11]</td>\n",
       "      <td>[0, 0, 0, 0, 0, 1, 1, 1, 1]</td>\n",
       "      <td>85.0</td>\n",
       "      <td>1.0</td>\n",
       "      <td>83.0</td>\n",
       "    </tr>\n",
       "    <tr>\n",
       "      <th>3</th>\n",
       "      <td>3</td>\n",
       "      <td>[48, 42, 30, 24, 37, 76, 18, 29, 38]</td>\n",
       "      <td>[0, 0, 0, 0, 0, 1, 1, 1, 1]</td>\n",
       "      <td>47.0</td>\n",
       "      <td>1.0</td>\n",
       "      <td>45.0</td>\n",
       "    </tr>\n",
       "    <tr>\n",
       "      <th>4</th>\n",
       "      <td>4</td>\n",
       "      <td>[7, 37, 53, 85, 67, 99, 98, 21, 65]</td>\n",
       "      <td>[0, 0, 0, 0, 0, 1, 1, 1, 1]</td>\n",
       "      <td>21.0</td>\n",
       "      <td>1.0</td>\n",
       "      <td>20.0</td>\n",
       "    </tr>\n",
       "  </tbody>\n",
       "</table>\n",
       "</div>"
      ],
      "text/plain": [
       "   match_id                                 heroes  \\\n",
       "0         0  [84, 49, 81, 10, 65, 104, 100, 44, 6]   \n",
       "1         1     [6, 80, 69, 37, 20, 71, 21, 4, 65]   \n",
       "2         2     [49, 106, 8, 39, 25, 36, 6, 9, 11]   \n",
       "3         3   [48, 42, 30, 24, 37, 76, 18, 29, 38]   \n",
       "4         4    [7, 37, 53, 85, 67, 99, 98, 21, 65]   \n",
       "\n",
       "                         teams  hero_id  team  temp_id  \n",
       "0  [0, 0, 0, 0, 0, 1, 1, 1, 1]     73.0   1.0     71.0  \n",
       "1  [0, 0, 0, 0, 0, 1, 1, 1, 1]    106.0   1.0    104.0  \n",
       "2  [0, 0, 0, 0, 0, 1, 1, 1, 1]     85.0   1.0     83.0  \n",
       "3  [0, 0, 0, 0, 0, 1, 1, 1, 1]     47.0   1.0     45.0  \n",
       "4  [0, 0, 0, 0, 0, 1, 1, 1, 1]     21.0   1.0     20.0  "
      ]
     },
     "execution_count": 42,
     "metadata": {},
     "output_type": "execute_result"
    }
   ],
   "source": [
    "df_final.head()"
   ]
  },
  {
   "cell_type": "markdown",
   "metadata": {},
   "source": [
    "Seems like some rows don't have enough players! Just dropping them"
   ]
  },
  {
   "cell_type": "code",
   "execution_count": 43,
   "metadata": {},
   "outputs": [],
   "source": [
    "for i in range(len(df_final)):\n",
    "    if len(df_final['heroes'][i]) != 9:\n",
    "        df_final.drop(i, axis=0, inplace=True)"
   ]
  },
  {
   "cell_type": "code",
   "execution_count": 44,
   "metadata": {},
   "outputs": [],
   "source": [
    "df_final = df_final.reset_index(drop=True)"
   ]
  },
  {
   "cell_type": "code",
   "execution_count": 45,
   "metadata": {
    "scrolled": true
   },
   "outputs": [
    {
     "data": {
      "text/html": [
       "<div>\n",
       "<style scoped>\n",
       "    .dataframe tbody tr th:only-of-type {\n",
       "        vertical-align: middle;\n",
       "    }\n",
       "\n",
       "    .dataframe tbody tr th {\n",
       "        vertical-align: top;\n",
       "    }\n",
       "\n",
       "    .dataframe thead th {\n",
       "        text-align: right;\n",
       "    }\n",
       "</style>\n",
       "<table border=\"1\" class=\"dataframe\">\n",
       "  <thead>\n",
       "    <tr style=\"text-align: right;\">\n",
       "      <th></th>\n",
       "      <th>match_id</th>\n",
       "      <th>hero_id</th>\n",
       "      <th>player_slot</th>\n",
       "      <th>team</th>\n",
       "    </tr>\n",
       "  </thead>\n",
       "  <tbody>\n",
       "    <tr>\n",
       "      <th>499990</th>\n",
       "      <td>49999</td>\n",
       "      <td>94</td>\n",
       "      <td>0</td>\n",
       "      <td>0</td>\n",
       "    </tr>\n",
       "    <tr>\n",
       "      <th>499991</th>\n",
       "      <td>49999</td>\n",
       "      <td>19</td>\n",
       "      <td>1</td>\n",
       "      <td>0</td>\n",
       "    </tr>\n",
       "    <tr>\n",
       "      <th>499992</th>\n",
       "      <td>49999</td>\n",
       "      <td>68</td>\n",
       "      <td>2</td>\n",
       "      <td>0</td>\n",
       "    </tr>\n",
       "    <tr>\n",
       "      <th>499993</th>\n",
       "      <td>49999</td>\n",
       "      <td>35</td>\n",
       "      <td>3</td>\n",
       "      <td>0</td>\n",
       "    </tr>\n",
       "    <tr>\n",
       "      <th>499994</th>\n",
       "      <td>49999</td>\n",
       "      <td>21</td>\n",
       "      <td>4</td>\n",
       "      <td>0</td>\n",
       "    </tr>\n",
       "    <tr>\n",
       "      <th>499995</th>\n",
       "      <td>49999</td>\n",
       "      <td>100</td>\n",
       "      <td>5</td>\n",
       "      <td>1</td>\n",
       "    </tr>\n",
       "    <tr>\n",
       "      <th>499996</th>\n",
       "      <td>49999</td>\n",
       "      <td>9</td>\n",
       "      <td>6</td>\n",
       "      <td>1</td>\n",
       "    </tr>\n",
       "    <tr>\n",
       "      <th>499997</th>\n",
       "      <td>49999</td>\n",
       "      <td>90</td>\n",
       "      <td>7</td>\n",
       "      <td>1</td>\n",
       "    </tr>\n",
       "    <tr>\n",
       "      <th>499998</th>\n",
       "      <td>49999</td>\n",
       "      <td>73</td>\n",
       "      <td>8</td>\n",
       "      <td>1</td>\n",
       "    </tr>\n",
       "    <tr>\n",
       "      <th>499999</th>\n",
       "      <td>49999</td>\n",
       "      <td>53</td>\n",
       "      <td>9</td>\n",
       "      <td>1</td>\n",
       "    </tr>\n",
       "  </tbody>\n",
       "</table>\n",
       "</div>"
      ],
      "text/plain": [
       "        match_id  hero_id  player_slot  team\n",
       "499990     49999       94            0     0\n",
       "499991     49999       19            1     0\n",
       "499992     49999       68            2     0\n",
       "499993     49999       35            3     0\n",
       "499994     49999       21            4     0\n",
       "499995     49999      100            5     1\n",
       "499996     49999        9            6     1\n",
       "499997     49999       90            7     1\n",
       "499998     49999       73            8     1\n",
       "499999     49999       53            9     1"
      ]
     },
     "execution_count": 45,
     "metadata": {},
     "output_type": "execute_result"
    }
   ],
   "source": [
    "df[df['match_id'] == 49999]"
   ]
  },
  {
   "cell_type": "markdown",
   "metadata": {},
   "source": [
    "Just cleaning up some rounding issues"
   ]
  },
  {
   "cell_type": "code",
   "execution_count": 46,
   "metadata": {
    "scrolled": true
   },
   "outputs": [
    {
     "name": "stderr",
     "output_type": "stream",
     "text": [
      "C:\\Users\\roder\\Anaconda3\\lib\\site-packages\\ipykernel_launcher.py:1: SettingWithCopyWarning: \n",
      "A value is trying to be set on a copy of a slice from a DataFrame\n",
      "\n",
      "See the caveats in the documentation: http://pandas.pydata.org/pandas-docs/stable/indexing.html#indexing-view-versus-copy\n",
      "  \"\"\"Entry point for launching an IPython kernel.\n",
      "C:\\Users\\roder\\Anaconda3\\lib\\site-packages\\ipykernel_launcher.py:2: SettingWithCopyWarning: \n",
      "A value is trying to be set on a copy of a slice from a DataFrame\n",
      "\n",
      "See the caveats in the documentation: http://pandas.pydata.org/pandas-docs/stable/indexing.html#indexing-view-versus-copy\n",
      "  \n",
      "C:\\Users\\roder\\Anaconda3\\lib\\site-packages\\ipykernel_launcher.py:3: SettingWithCopyWarning: \n",
      "A value is trying to be set on a copy of a slice from a DataFrame\n",
      "\n",
      "See the caveats in the documentation: http://pandas.pydata.org/pandas-docs/stable/indexing.html#indexing-view-versus-copy\n",
      "  This is separate from the ipykernel package so we can avoid doing imports until\n",
      "C:\\Users\\roder\\Anaconda3\\lib\\site-packages\\ipykernel_launcher.py:5: SettingWithCopyWarning: \n",
      "A value is trying to be set on a copy of a slice from a DataFrame\n",
      "\n",
      "See the caveats in the documentation: http://pandas.pydata.org/pandas-docs/stable/indexing.html#indexing-view-versus-copy\n",
      "  \"\"\"\n",
      "C:\\Users\\roder\\Anaconda3\\lib\\site-packages\\ipykernel_launcher.py:6: SettingWithCopyWarning: \n",
      "A value is trying to be set on a copy of a slice from a DataFrame\n",
      "\n",
      "See the caveats in the documentation: http://pandas.pydata.org/pandas-docs/stable/indexing.html#indexing-view-versus-copy\n",
      "  \n",
      "C:\\Users\\roder\\Anaconda3\\lib\\site-packages\\ipykernel_launcher.py:7: SettingWithCopyWarning: \n",
      "A value is trying to be set on a copy of a slice from a DataFrame\n",
      "\n",
      "See the caveats in the documentation: http://pandas.pydata.org/pandas-docs/stable/indexing.html#indexing-view-versus-copy\n",
      "  import sys\n",
      "C:\\Users\\roder\\Anaconda3\\lib\\site-packages\\ipykernel_launcher.py:9: SettingWithCopyWarning: \n",
      "A value is trying to be set on a copy of a slice from a DataFrame\n",
      "\n",
      "See the caveats in the documentation: http://pandas.pydata.org/pandas-docs/stable/indexing.html#indexing-view-versus-copy\n",
      "  if __name__ == '__main__':\n",
      "C:\\Users\\roder\\Anaconda3\\lib\\site-packages\\ipykernel_launcher.py:10: SettingWithCopyWarning: \n",
      "A value is trying to be set on a copy of a slice from a DataFrame\n",
      "\n",
      "See the caveats in the documentation: http://pandas.pydata.org/pandas-docs/stable/indexing.html#indexing-view-versus-copy\n",
      "  # Remove the CWD from sys.path while we load stuff.\n",
      "C:\\Users\\roder\\Anaconda3\\lib\\site-packages\\ipykernel_launcher.py:11: SettingWithCopyWarning: \n",
      "A value is trying to be set on a copy of a slice from a DataFrame\n",
      "\n",
      "See the caveats in the documentation: http://pandas.pydata.org/pandas-docs/stable/indexing.html#indexing-view-versus-copy\n",
      "  # This is added back by InteractiveShellApp.init_path()\n"
     ]
    }
   ],
   "source": [
    "df_final['hero_id'][(df_final['match_id']==49997)] = 23\n",
    "df_final['team'][(df_final['match_id']==49997)] = 1\n",
    "df_final['temp_id'][(df_final['match_id']==49997)] = 22\n",
    "\n",
    "df_final['hero_id'][(df_final['match_id']==49998)] = 3\n",
    "df_final['team'][(df_final['match_id']==49998)] = 1\n",
    "df_final['temp_id'][(df_final['match_id']==49998)] = 2\n",
    "\n",
    "df_final['hero_id'][(df_final['match_id']==49999)] = 53\n",
    "df_final['team'][(df_final['match_id']==49999)] = 1\n",
    "df_final['temp_id'][(df_final['match_id']==49999)] = 51\n"
   ]
  },
  {
   "cell_type": "code",
   "execution_count": 92,
   "metadata": {},
   "outputs": [
    {
     "data": {
      "text/html": [
       "<div>\n",
       "<style scoped>\n",
       "    .dataframe tbody tr th:only-of-type {\n",
       "        vertical-align: middle;\n",
       "    }\n",
       "\n",
       "    .dataframe tbody tr th {\n",
       "        vertical-align: top;\n",
       "    }\n",
       "\n",
       "    .dataframe thead th {\n",
       "        text-align: right;\n",
       "    }\n",
       "</style>\n",
       "<table border=\"1\" class=\"dataframe\">\n",
       "  <thead>\n",
       "    <tr style=\"text-align: right;\">\n",
       "      <th></th>\n",
       "      <th>match_id</th>\n",
       "      <th>heroes</th>\n",
       "      <th>teams</th>\n",
       "      <th>hero_id</th>\n",
       "      <th>team</th>\n",
       "      <th>temp_id</th>\n",
       "    </tr>\n",
       "  </thead>\n",
       "  <tbody>\n",
       "    <tr>\n",
       "      <th>0</th>\n",
       "      <td>0</td>\n",
       "      <td>[84, 49, 81, 10, 65, 104, 100, 44, 6]</td>\n",
       "      <td>[0, 0, 0, 0, 0, 1, 1, 1, 1]</td>\n",
       "      <td>73.0</td>\n",
       "      <td>1.0</td>\n",
       "      <td>71</td>\n",
       "    </tr>\n",
       "    <tr>\n",
       "      <th>1</th>\n",
       "      <td>1</td>\n",
       "      <td>[6, 80, 69, 37, 20, 71, 21, 4, 65]</td>\n",
       "      <td>[0, 0, 0, 0, 0, 1, 1, 1, 1]</td>\n",
       "      <td>106.0</td>\n",
       "      <td>1.0</td>\n",
       "      <td>104</td>\n",
       "    </tr>\n",
       "    <tr>\n",
       "      <th>2</th>\n",
       "      <td>2</td>\n",
       "      <td>[49, 106, 8, 39, 25, 36, 6, 9, 11]</td>\n",
       "      <td>[0, 0, 0, 0, 0, 1, 1, 1, 1]</td>\n",
       "      <td>85.0</td>\n",
       "      <td>1.0</td>\n",
       "      <td>83</td>\n",
       "    </tr>\n",
       "    <tr>\n",
       "      <th>3</th>\n",
       "      <td>3</td>\n",
       "      <td>[48, 42, 30, 24, 37, 76, 18, 29, 38]</td>\n",
       "      <td>[0, 0, 0, 0, 0, 1, 1, 1, 1]</td>\n",
       "      <td>47.0</td>\n",
       "      <td>1.0</td>\n",
       "      <td>45</td>\n",
       "    </tr>\n",
       "    <tr>\n",
       "      <th>4</th>\n",
       "      <td>4</td>\n",
       "      <td>[7, 37, 53, 85, 67, 99, 98, 21, 65]</td>\n",
       "      <td>[0, 0, 0, 0, 0, 1, 1, 1, 1]</td>\n",
       "      <td>21.0</td>\n",
       "      <td>1.0</td>\n",
       "      <td>20</td>\n",
       "    </tr>\n",
       "  </tbody>\n",
       "</table>\n",
       "</div>"
      ],
      "text/plain": [
       "   match_id                                 heroes  \\\n",
       "0         0  [84, 49, 81, 10, 65, 104, 100, 44, 6]   \n",
       "1         1     [6, 80, 69, 37, 20, 71, 21, 4, 65]   \n",
       "2         2     [49, 106, 8, 39, 25, 36, 6, 9, 11]   \n",
       "3         3   [48, 42, 30, 24, 37, 76, 18, 29, 38]   \n",
       "4         4    [7, 37, 53, 85, 67, 99, 98, 21, 65]   \n",
       "\n",
       "                         teams  hero_id  team  temp_id  \n",
       "0  [0, 0, 0, 0, 0, 1, 1, 1, 1]     73.0   1.0       71  \n",
       "1  [0, 0, 0, 0, 0, 1, 1, 1, 1]    106.0   1.0      104  \n",
       "2  [0, 0, 0, 0, 0, 1, 1, 1, 1]     85.0   1.0       83  \n",
       "3  [0, 0, 0, 0, 0, 1, 1, 1, 1]     47.0   1.0       45  \n",
       "4  [0, 0, 0, 0, 0, 1, 1, 1, 1]     21.0   1.0       20  "
      ]
     },
     "execution_count": 92,
     "metadata": {},
     "output_type": "execute_result"
    }
   ],
   "source": [
    "df_final.head()"
   ]
  },
  {
   "cell_type": "code",
   "execution_count": 48,
   "metadata": {},
   "outputs": [],
   "source": [
    "df_final['temp_id'] = df_final.temp_id.astype(int)"
   ]
  },
  {
   "cell_type": "code",
   "execution_count": 49,
   "metadata": {},
   "outputs": [
    {
     "data": {
      "text/plain": [
       "109"
      ]
     },
     "execution_count": 49,
     "metadata": {},
     "output_type": "execute_result"
    }
   ],
   "source": [
    "len(df_final['temp_id'].unique())\n",
    "max(df_final['temp_id'].unique())"
   ]
  },
  {
   "cell_type": "code",
   "execution_count": 50,
   "metadata": {},
   "outputs": [
    {
     "data": {
      "text/plain": [
       "match_id                                     721\n",
       "heroes      [15, 16, 94, 65, 13, 42, 73, 20, 37]\n",
       "teams                [0, 0, 0, 0, 0, 1, 1, 1, 1]\n",
       "hero_id                                       86\n",
       "team                                           1\n",
       "temp_id                                       84\n",
       "Name: 720, dtype: object"
      ]
     },
     "execution_count": 50,
     "metadata": {},
     "output_type": "execute_result"
    }
   ],
   "source": [
    "df_final.iloc[720]"
   ]
  },
  {
   "cell_type": "code",
   "execution_count": 51,
   "metadata": {
    "scrolled": true
   },
   "outputs": [],
   "source": [
    "ds = [[np.eye(n_heroes)[df_final['heroes'][i]], df_final['temp_id'][i]] for i in range(len(df_final))]"
   ]
  },
  {
   "cell_type": "code",
   "execution_count": 52,
   "metadata": {},
   "outputs": [
    {
     "name": "stdout",
     "output_type": "stream",
     "text": [
      "39974\n",
      "9994\n"
     ]
    }
   ],
   "source": [
    "train_ds = ds[0:int(0.8*len(ds))]\n",
    "test_ds = ds[int(0.8*len(ds)):]\n",
    "\n",
    "print(len(train_ds))\n",
    "print(len(test_ds))"
   ]
  },
  {
   "cell_type": "code",
   "execution_count": 53,
   "metadata": {},
   "outputs": [
    {
     "data": {
      "text/plain": [
       "990"
      ]
     },
     "execution_count": 53,
     "metadata": {},
     "output_type": "execute_result"
    }
   ],
   "source": [
    "ds[0][0].size"
   ]
  },
  {
   "cell_type": "code",
   "execution_count": 54,
   "metadata": {},
   "outputs": [],
   "source": [
    "# can see this is now the right format for trainloader\n",
    "train_loader = DataLoader(ds, batch_size=64)\n"
   ]
  },
  {
   "cell_type": "code",
   "execution_count": 55,
   "metadata": {},
   "outputs": [
    {
     "name": "stdout",
     "output_type": "stream",
     "text": [
      "torch.Size([64, 9, 110])\n",
      "torch.float64\n",
      "torch.int32\n"
     ]
    }
   ],
   "source": [
    "# checking it works for one\n",
    "for i, (X,y) in enumerate(train_loader):\n",
    "    print(X.size())\n",
    "#     print(X[i])\n",
    "#     print(y[i])\n",
    "    print(X[i].dtype)\n",
    "    print(y[i].dtype)\n",
    "    break"
   ]
  },
  {
   "cell_type": "code",
   "execution_count": 56,
   "metadata": {},
   "outputs": [],
   "source": [
    "train_data_full = DataLoader(train_ds, batch_size=len(train_ds))\n",
    "test_data_full = DataLoader(test_ds, batch_size=len(test_ds))\n",
    "all_data = DataLoader(ds, batch_size=len(ds))"
   ]
  },
  {
   "cell_type": "code",
   "execution_count": 57,
   "metadata": {},
   "outputs": [],
   "source": [
    "class linear_net(nn.Module):\n",
    "    def __init__(self):\n",
    "        super(linear_net, self).__init__()\n",
    "        self.layer1 = nn.Linear(9 * n_heroes, 300)\n",
    "        self.layer2 = nn.Linear(300, 200)\n",
    "        self.layer3 = nn.Linear(200, 150)\n",
    "        self.layer4 = nn.Linear(150, 110)\n",
    "        \n",
    "        self.dropout = nn.Dropout(p=0.2)\n",
    "    def forward(self, x):\n",
    "        x = x.float().to(device)\n",
    "        x = x.view(-1, 9 * 110)\n",
    "        x = self.dropout(F.relu(self.layer1(x)))\n",
    "        x = self.dropout(F.relu(self.layer2(x)))\n",
    "        x = self.dropout(F.relu(self.layer3(x)))\n",
    "        x = self.layer4(x)\n",
    "        return F.log_softmax(x, dim=1)"
   ]
  },
  {
   "cell_type": "code",
   "execution_count": 58,
   "metadata": {},
   "outputs": [
    {
     "name": "stdout",
     "output_type": "stream",
     "text": [
      "[6, 3, 2]\n"
     ]
    },
    {
     "data": {
      "text/plain": [
       "True"
      ]
     },
     "execution_count": 58,
     "metadata": {},
     "output_type": "execute_result"
    }
   ],
   "source": [
    "t = torch.tensor([4,2,5,6,4,5,7,2])\n",
    "t.argmax()\n",
    "res = torch.topk(t, k=3).indices.tolist()\n",
    "print(res)\n",
    "u = torch.tensor([6])\n",
    "u.item() in res"
   ]
  },
  {
   "cell_type": "code",
   "execution_count": 59,
   "metadata": {},
   "outputs": [],
   "source": [
    "def get_accuracy(model, data_to_test, criterion, return_loss = True, return_predictions=False):\n",
    "    with torch.no_grad():\n",
    "        for i, (X_testing, y_testing) in enumerate(data_to_test):\n",
    "            y_testing = y_testing.type(torch.LongTensor)\n",
    "            predictions_testing = model(X_testing)\n",
    "            if return_loss:\n",
    "                test_loss = criterion(predictions_testing, y_testing)\n",
    "            total_testing = 0\n",
    "            correct_testing = 0\n",
    "            for i in range(len(predictions_testing)):\n",
    "                # checking to see if the correct hero is in one of 5 top predictions!\n",
    "                if  y_testing[i].item() in torch.topk(predictions_testing[i], k=10).indices.tolist():\n",
    "                    correct_testing += 1\n",
    "                total_testing += 1\n",
    "    \n",
    "    if return_predictions:\n",
    "        if return_loss:\n",
    "            return predictions_testing, y_testing, test_loss, correct_testing/total_testing * 100\n",
    "        return predictions_testing, y_testing, correct_testing/total_testing * 100\n",
    "    \n",
    "    if return_loss:\n",
    "        return test_loss, correct_testing/total_testing * 10\n",
    "    \n",
    "    return correct_testing/total_testing * 100"
   ]
  },
  {
   "cell_type": "code",
   "execution_count": 84,
   "metadata": {},
   "outputs": [],
   "source": [
    "def train(model, learning_rate = 0.005, EPOCHS = 10, batch_size = 1024, get_confusion_matrix = True,\n",
    "          show_plots = True, print_accuracies = True, weight_decay = 0.0001, retrain=False):\n",
    "    \n",
    "    if retrain:\n",
    "\n",
    "        train_iter = torch.utils.data.DataLoader(train_ds, batch_size=batch_size, num_workers=0, shuffle=True)\n",
    "        criterion = nn.NLLLoss()\n",
    "        optimizer = optim.Adam(model.parameters(), lr=learning_rate, weight_decay = weight_decay)\n",
    "        iteration_list, train_losses, test_losses, accuracy_list_training, accuracy_list_testing = [], [], [], [], []\n",
    "\n",
    "        print('approx number of batches', len(train_ds)*EPOCHS/batch_size)\n",
    "        n = 0\n",
    "        for epoch in range(EPOCHS):\n",
    "            for i, (X_training, y_training) in enumerate(train_iter):\n",
    "                y_training = y_training.type(torch.LongTensor)\n",
    "                n += 1\n",
    "                train_loss = 0\n",
    "                test_loss = 0\n",
    "                # getting outputs for each batch\n",
    "                output = model(X_training)\n",
    "                # computing cross_entropy_loss\n",
    "                train_loss = criterion(output, y_training)\n",
    "                # backpropogation\n",
    "                train_loss.backward()\n",
    "                optimizer.step()\n",
    "                # reset gradients for the next batch\n",
    "                optimizer.zero_grad()\n",
    "\n",
    "                # get the accuracy for the entire training data\n",
    "                accuracy_training = get_accuracy(model = model, data_to_test= train_data_full, criterion = criterion,\n",
    "                                                            return_loss = False)\n",
    "                # get the accuracy and predictions and y labels for the entire testing data\n",
    "                predictions_testing, y_testing, test_loss, accuracy_testing = get_accuracy(model = model, data_to_test= test_data_full,\n",
    "                                                                                criterion = criterion, return_predictions = True)\n",
    "\n",
    "                # append iterations, accuracies and losses to a list for visualisation\n",
    "                iteration_list.append(n)\n",
    "                accuracy_list_training.append(accuracy_training)\n",
    "                accuracy_list_testing.append(accuracy_testing)\n",
    "                train_losses.append(train_loss.item())\n",
    "                test_losses.append(test_loss.item())\n",
    "\n",
    "                if print_accuracies:\n",
    "                    print(\"Batch:\", n, \"accuracy_training:\", accuracy_training, \"accuracy_list_testing:\", accuracy_testing)\n",
    "                \n",
    "                \n",
    "                # save at the iteration which achieves the best accuracy\n",
    "                \n",
    "                if accuracy_testing == max(accuracy_list_testing):\n",
    "                    saved_iteration = n\n",
    "                    saved_accuracy_testing = accuracy_testing\n",
    "                    saved_accuracy_training = accuracy_training\n",
    "                    saved_loss_testing = test_loss.item()\n",
    "                    saved_loss_training = train_loss.item()\n",
    "                    \n",
    "                    torch.save(model.state_dict(), model.__class__.__name__)\n",
    "\n",
    "                    with open(model.__class__.__name__ + \"_\" + \"iteration_list.txt\", \"wb\") as fp:   #Pickling\n",
    "                        pickle.dump(iteration_list, fp)        \n",
    "                    with open(model.__class__.__name__ + \"_\" + \"accuracy_list_training.txt\", \"wb\") as fp:   #Pickling\n",
    "                        pickle.dump(accuracy_list_training, fp)\n",
    "                    with open(model.__class__.__name__ + \"_\" + \"accuracy_list_testing.txt\", \"wb\") as fp:   #Pickling\n",
    "                        pickle.dump(accuracy_list_testing, fp)\n",
    "                    with open(model.__class__.__name__ + \"_\" + \"train_losses.txt\", \"wb\") as fp:   #Pickling\n",
    "                        pickle.dump(train_losses, fp)\n",
    "                    with open(model.__class__.__name__ + \"_\" + \"test_losses.txt\", \"wb\") as fp:   #Pickling\n",
    "                        pickle.dump(test_losses, fp)\n",
    "                    with open(model.__class__.__name__ + \"_\" + \"y_testing.txt\", \"wb\") as fp:   #Pickling\n",
    "                        pickle.dump(y_testing, fp)           \n",
    "                    with open(model.__class__.__name__ + \"_\" + \"last_predictions.txt\", \"wb\") as fp:   #Pickling\n",
    "                        pickle.dump(predictions_testing, fp)\n",
    "\n",
    "            \n",
    "    with open(model.__class__.__name__ + \"_\" + \"iteration_list.txt\", \"rb\") as fp:   # Unpickling\n",
    "        iteration_list = pickle.load(fp)\n",
    "    with open(model.__class__.__name__ + \"_\" + \"accuracy_list_training.txt\", \"rb\") as fp:   # Unpickling\n",
    "        accuracy_list_training = pickle.load(fp)\n",
    "    with open(model.__class__.__name__ + \"_\" + \"accuracy_list_testing.txt\", \"rb\") as fp:   # Unpickling\n",
    "        accuracy_list_testing = pickle.load(fp)\n",
    "    with open(model.__class__.__name__ + \"_\" + \"train_losses.txt\", \"rb\") as fp:   # Unpickling\n",
    "        train_losses = pickle.load(fp)\n",
    "    with open(model.__class__.__name__ + \"_\" + \"test_losses.txt\", \"rb\") as fp:   # Unpickling\n",
    "        test_losses = pickle.load(fp)\n",
    "    with open(model.__class__.__name__ + \"_\" + \"y_testing.txt\", \"rb\") as fp:   # Unpickling\n",
    "        y_testing = pickle.load(fp)        \n",
    "    with open(model.__class__.__name__ + \"_\" + \"last_predictions.txt\", \"rb\") as fp:   # Unpickling\n",
    "        predictions_testing = pickle.load(fp)\n",
    "            \n",
    "    if show_plots:\n",
    "        # loss graph\n",
    "        fig = plt.figure(figsize=(15,12))\n",
    "        ax1 = fig.add_subplot(3,1,1)\n",
    "        ax1.set_title('Training and Testing Losses over Batch Iterations')\n",
    "        ax1.plot(iteration_list, train_losses, label = 'Training Losses')\n",
    "        ax1.plot(iteration_list, test_losses, label = 'Testing Losses')\n",
    "        \n",
    "        plt.legend()\n",
    "        \n",
    "        # accuracy graph\n",
    "        ax2 = fig.add_subplot(3,1,2)\n",
    "        ax2.set_title('Train Accuracy and Test Accuracy over Batch Iterations - Training Data')\n",
    "        ax2.plot(iteration_list, accuracy_list_training, label = 'Training Accuracy')\n",
    "        ax2.plot(iteration_list, accuracy_list_testing, label = 'Testing Accuracy')\n",
    "        \n",
    "        plt.legend()\n",
    "\n",
    "    # used for numerical display of accuracies\n",
    "    \n",
    "    # confusion matrix using the last set of predicitons and y labels\n",
    "    if get_confusion_matrix:\n",
    "        ax3 = fig.add_subplot(3,1,3)\n",
    "        ax3.set_title('Confusion Matrix')\n",
    "        conf_mat = confusion_matrix(y_testing.tolist(), predictions_testing.argmax(dim=1).tolist())\n",
    "        sns.heatmap(conf_mat,annot=True,cmap='Blues', fmt='g')\n",
    "#         ax3.set_xticklabels([])\n",
    "#         ax3.set_yticklabels([])\n",
    "        ax3.set_xlabel('Predicted')\n",
    "        ax3.set_ylabel('True')\n",
    "\n",
    "    # return the saved value of the accuracy of the model on the testing data, whenever it occurred\n",
    "\n",
    "    \n",
    "    if retrain:\n",
    "        print(\"best accuracy on iteration:\", saved_iteration)\n",
    "        print(\"best test accuracy:\", saved_accuracy_testing)\n",
    "        print(\"training accuracy on that iteration:\", saved_accuracy_training)\n",
    "        print(\"testing loss on that iteration:\", saved_loss_testing)\n",
    "        print(\"training loss on that iteration:\", saved_loss_training)\n",
    "        return(saved_accuracy_testing)"
   ]
  },
  {
   "cell_type": "code",
   "execution_count": 77,
   "metadata": {
    "scrolled": false
   },
   "outputs": [
    {
     "data": {
      "text/plain": [
       "tensor([[-4.7797, -4.7438, -4.7715, -4.7553, -4.6678, -4.7333, -4.6191, -4.6879,\n",
       "         -4.6160, -4.6336, -4.7368, -4.6029, -4.6797, -4.7684, -4.6207, -4.7601,\n",
       "         -4.6499, -4.6437, -4.7870, -4.7428, -4.7400, -4.6767, -4.6244, -4.6586,\n",
       "         -4.7213, -4.7535, -4.7049, -4.8312, -4.6826, -4.5969, -4.6230, -4.7862,\n",
       "         -4.6121, -4.6961, -4.8075, -4.6267, -4.5918, -4.7802, -4.6688, -4.6073,\n",
       "         -4.6983, -4.6496, -4.7926, -4.6484, -4.7781, -4.7189, -4.7992, -4.7663,\n",
       "         -4.6692, -4.7394, -4.7610, -4.6497, -4.6844, -4.6213, -4.7830, -4.7119,\n",
       "         -4.7180, -4.6602, -4.6637, -4.7247, -4.7386, -4.6729, -4.6617, -4.6117,\n",
       "         -4.7182, -4.7272, -4.6881, -4.7403, -4.7190, -4.7356, -4.7605, -4.7781,\n",
       "         -4.6765, -4.7480, -4.7452, -4.8265, -4.7369, -4.7392, -4.6420, -4.7784,\n",
       "         -4.7381, -4.6313, -4.7098, -4.7160, -4.7728, -4.7682, -4.6901, -4.7465,\n",
       "         -4.7334, -4.6956, -4.6343, -4.6444, -4.7255, -4.6257, -4.6728, -4.6887,\n",
       "         -4.6700, -4.6708, -4.6507, -4.7310, -4.6991, -4.6531, -4.5906, -4.7916,\n",
       "         -4.6702, -4.7024, -4.6528, -4.6854, -4.7400, -4.6651]],\n",
       "       grad_fn=<LogSoftmaxBackward>)"
      ]
     },
     "execution_count": 77,
     "metadata": {},
     "output_type": "execute_result"
    }
   ],
   "source": [
    "# Check that the model can output\n",
    "model = linear_net()\n",
    "model(X[0].float())"
   ]
  },
  {
   "cell_type": "code",
   "execution_count": 78,
   "metadata": {},
   "outputs": [
    {
     "data": {
      "text/plain": [
       "[84, 49, 81, 10, 65, 104, 100, 44, 6]"
      ]
     },
     "execution_count": 78,
     "metadata": {},
     "output_type": "execute_result"
    }
   ],
   "source": [
    "df_final['heroes'][i]"
   ]
  },
  {
   "cell_type": "code",
   "execution_count": 79,
   "metadata": {},
   "outputs": [
    {
     "data": {
      "text/plain": [
       "tensor([[-4.7860, -4.7431, -4.7513, -4.7645, -4.6896, -4.7223, -4.6598, -4.6722,\n",
       "         -4.5972, -4.6477, -4.7336, -4.5999, -4.6817, -4.7623, -4.6170, -4.7650,\n",
       "         -4.6531, -4.6375, -4.7745, -4.7732, -4.7567, -4.6757, -4.6408, -4.6601,\n",
       "         -4.7208, -4.7382, -4.6836, -4.8012, -4.6874, -4.5857, -4.6457, -4.7883,\n",
       "         -4.6264, -4.6923, -4.7957, -4.6409, -4.6040, -4.7883, -4.6974, -4.6011,\n",
       "         -4.7223, -4.6345, -4.7601, -4.6412, -4.8054, -4.7053, -4.7955, -4.7437,\n",
       "         -4.6685, -4.7354, -4.7563, -4.6618, -4.6936, -4.6327, -4.7724, -4.7399,\n",
       "         -4.7137, -4.6651, -4.6516, -4.7265, -4.7350, -4.6489, -4.6395, -4.6453,\n",
       "         -4.7178, -4.7258, -4.7168, -4.7276, -4.6991, -4.7355, -4.7320, -4.7446,\n",
       "         -4.6753, -4.7356, -4.7627, -4.8098, -4.7204, -4.7355, -4.6188, -4.7487,\n",
       "         -4.7428, -4.6546, -4.7364, -4.7179, -4.7668, -4.7695, -4.7029, -4.7204,\n",
       "         -4.7359, -4.7152, -4.6191, -4.6375, -4.7303, -4.6400, -4.7000, -4.6901,\n",
       "         -4.6315, -4.6753, -4.6560, -4.7402, -4.7189, -4.6464, -4.6225, -4.8037,\n",
       "         -4.6689, -4.6979, -4.6682, -4.6863, -4.7050, -4.6573]],\n",
       "       grad_fn=<LogSoftmaxBackward>)"
      ]
     },
     "execution_count": 79,
     "metadata": {},
     "output_type": "execute_result"
    }
   ],
   "source": [
    "# Checking for a specific example that the model can output\n",
    "input = [0, 1, 2, 36, 63, 66, 71, 100, 109] # some indices that correspond to \"abaddon\", \"alchemist\" etc\n",
    "ffnn_input = torch.LongTensor(np.eye(n_heroes)[input])\n",
    "model(ffnn_input)"
   ]
  },
  {
   "cell_type": "code",
   "execution_count": 91,
   "metadata": {
    "scrolled": true
   },
   "outputs": [
    {
     "data": {
      "image/png": "[encoded data removed]",
      "text/plain": [
       "<Figure size 1080x864 with 2 Axes>"
      ]
     },
     "metadata": {
      "needs_background": "light"
     },
     "output_type": "display_data"
    }
   ],
   "source": [
    "train(model=linear_net(), retrain=False, EPOCHS=5, get_confusion_matrix=False)"
   ]
  },
  {
   "cell_type": "code",
   "execution_count": 86,
   "metadata": {},
   "outputs": [],
   "source": [
    "# input_size is the length of each row, here it is 667\n",
    "# hidden_size is the number of nodes in each hidden layer\n",
    "# num_layers is the number of hidden layers to use\n",
    "# num_classes is the number of classes and therefore the size of the output\n",
    "\n",
    "class LSTM_Classifier(nn.Module):\n",
    "    def __init__(self, input_size = ds[0][0].size, hidden_size = 110, num_layers = 3, num_classes = 110):\n",
    "        super(LSTM_Classifier, self).__init__()\n",
    "        self.hidden_size = hidden_size\n",
    "        self.num_layers = num_layers\n",
    "        # bidirectional means that the state of a row will depend on previous states and states after the row\n",
    "        self.bidirectional = True\n",
    "        self.lstm = nn.LSTM(input_size, hidden_size, num_layers, batch_first=True, bidirectional=self.bidirectional)\n",
    "        # batch_first=True means: # input & output will has batch size as 1s dimension. e.g. (batch, time_step, input_size\n",
    "        if self.bidirectional:\n",
    "            # since bidirectional we need twice as many hidden layers and weights\n",
    "            self.fc = nn.Linear(hidden_size*2, num_classes)\n",
    "        else:\n",
    "            self.fc = nn.Linear(hidden_size, num_classes)\n",
    "        self.dropout = nn.Dropout(p=0.2)\n",
    "    \n",
    "    def forward(self, x):\n",
    "        # making x a rolled out 2d image\n",
    "        x = x.view(-1, 1, ds[0][0].size).float().to(device) \n",
    "        # setting initial weight and cell states\n",
    "        h0 = torch.zeros(self.num_layers, x.size(0), self.hidden_size).to(device) \n",
    "        c0 = torch.zeros(self.num_layers, x.size(0), self.hidden_size).to(device) \n",
    "        if self.bidirectional:\n",
    "            # since bidirectional we need twice as many hidden layers and weights\n",
    "            h0 = torch.zeros(self.num_layers*2, x.size(0), self.hidden_size).to(device) \n",
    "            c0 = torch.zeros(self.num_layers*2, x.size(0), self.hidden_size).to(device) \n",
    "        \n",
    "        \n",
    "        # Forward propagate LSTM\n",
    "        out, _ = self.lstm(x, (h0, c0))  # out: tensor of shape (batch_size, seq_length, hidden_size)\n",
    "        \n",
    "        # Decode the hidden state of the last time step\n",
    "        out = self.fc(out[:, -1, :])\n",
    "        return F.log_softmax(out, dim=1)"
   ]
  },
  {
   "cell_type": "code",
   "execution_count": 89,
   "metadata": {
    "scrolled": true
   },
   "outputs": [
    {
     "data": {
      "image/png": "[encoded data removed]",
      "text/plain": [
       "<Figure size 1080x864 with 2 Axes>"
      ]
     },
     "metadata": {
      "needs_background": "light"
     },
     "output_type": "display_data"
    }
   ],
   "source": [
    "train(model=LSTM_Classifier(), retrain=False, EPOCHS=5, get_confusion_matrix=False)"
   ]
  },
  {
   "cell_type": "markdown",
   "metadata": {},
   "source": [
    "Making a prediction with a raw user input"
   ]
  },
  {
   "cell_type": "markdown",
   "metadata": {},
   "source": [
    "Load a model"
   ]
  },
  {
   "cell_type": "code",
   "execution_count": 170,
   "metadata": {},
   "outputs": [],
   "source": [
    "user_input = [2,2,2,2,2,2,2,2,2]"
   ]
  },
  {
   "cell_type": "code",
   "execution_count": 171,
   "metadata": {},
   "outputs": [],
   "source": [
    "torch_input = torch.tensor(np.eye(110)[user_input])"
   ]
  },
  {
   "cell_type": "markdown",
   "metadata": {},
   "source": [
    "torch input is the same as X0 from before, don't need to index anymore"
   ]
  },
  {
   "cell_type": "code",
   "execution_count": 172,
   "metadata": {},
   "outputs": [
    {
     "data": {
      "text/plain": [
       "tensor([[-4.0088, -4.8127, -5.2351, -5.0774, -4.0648, -5.4673, -3.8923, -3.9329,\n",
       "         -4.1090, -5.9227, -3.4974, -4.8490, -5.5407, -3.9958, -5.3884, -4.9140,\n",
       "         -5.6319, -5.1301, -4.4944, -4.9035, -3.4127, -4.5760, -5.3390, -4.0980,\n",
       "         -4.1570, -4.9278, -3.7287, -5.2690, -3.9520, -4.7417, -4.8801, -5.0429,\n",
       "         -5.2934, -5.0714, -4.3790, -5.5206, -5.6173, -3.8176, -5.0548, -5.0772,\n",
       "         -4.2562, -5.4782, -4.2427, -5.8643, -4.5806, -4.9253, -5.4311, -5.6744,\n",
       "         -3.9528, -4.6873, -6.0701, -4.9532, -5.2126, -4.9588, -5.3765, -4.5742,\n",
       "         -6.0786, -4.8615, -5.4232, -5.5943, -4.1933, -5.5744, -5.1135, -5.8802,\n",
       "         -6.6146, -4.3383, -4.1261, -4.0593, -4.7375, -4.2289, -4.4443, -3.9333,\n",
       "         -3.7264, -4.1947, -5.5614, -6.2164, -6.2423, -5.7172, -6.4408, -5.4337,\n",
       "         -5.5157, -5.6743, -4.7699, -4.5038, -4.0550, -4.6729, -5.2787, -6.1686,\n",
       "         -5.3776, -5.6018, -6.3015, -4.0594, -5.5389, -5.6808, -5.4848, -4.8206,\n",
       "         -5.2657, -4.9442, -3.9382, -5.1791, -5.1683, -6.2383, -3.9520, -5.8202,\n",
       "         -4.1318, -5.1015, -5.5707, -4.8499, -6.1853, -4.2023]],\n",
       "       grad_fn=<LogSoftmaxBackward>)"
      ]
     },
     "execution_count": 172,
     "metadata": {},
     "output_type": "execute_result"
    }
   ],
   "source": [
    "model = LSTM_Classifier()\n",
    "model.load_state_dict(torch.load(r\"C:\\Users\\roder\\Projects\\DOTA_Hero_Prediction_Project\\LSTM_Classifier\"))\n",
    "output = model(torch_input)\n",
    "output"
   ]
  },
  {
   "cell_type": "markdown",
   "metadata": {},
   "source": [
    "Actually using softmax not log softmax here - not the same as the model but need a probability!"
   ]
  },
  {
   "cell_type": "code",
   "execution_count": 173,
   "metadata": {},
   "outputs": [
    {
     "data": {
      "text/plain": [
       "tensor([[0.0182, 0.0081, 0.0053, 0.0062, 0.0172, 0.0042, 0.0204, 0.0196, 0.0164,\n",
       "         0.0027, 0.0303, 0.0078, 0.0039, 0.0184, 0.0046, 0.0073, 0.0036, 0.0059,\n",
       "         0.0112, 0.0074, 0.0330, 0.0103, 0.0048, 0.0166, 0.0157, 0.0072, 0.0240,\n",
       "         0.0051, 0.0192, 0.0087, 0.0076, 0.0065, 0.0050, 0.0063, 0.0125, 0.0040,\n",
       "         0.0036, 0.0220, 0.0064, 0.0062, 0.0142, 0.0042, 0.0144, 0.0028, 0.0102,\n",
       "         0.0073, 0.0044, 0.0034, 0.0192, 0.0092, 0.0023, 0.0071, 0.0054, 0.0070,\n",
       "         0.0046, 0.0103, 0.0023, 0.0077, 0.0044, 0.0037, 0.0151, 0.0038, 0.0060,\n",
       "         0.0028, 0.0013, 0.0131, 0.0161, 0.0173, 0.0088, 0.0146, 0.0117, 0.0196,\n",
       "         0.0241, 0.0151, 0.0038, 0.0020, 0.0019, 0.0033, 0.0016, 0.0044, 0.0040,\n",
       "         0.0034, 0.0085, 0.0111, 0.0173, 0.0093, 0.0051, 0.0021, 0.0046, 0.0037,\n",
       "         0.0018, 0.0173, 0.0039, 0.0034, 0.0041, 0.0081, 0.0052, 0.0071, 0.0195,\n",
       "         0.0056, 0.0057, 0.0020, 0.0192, 0.0030, 0.0161, 0.0061, 0.0038, 0.0078,\n",
       "         0.0021, 0.0150]], grad_fn=<SoftmaxBackward>)"
      ]
     },
     "execution_count": 173,
     "metadata": {},
     "output_type": "execute_result"
    }
   ],
   "source": [
    "probabilities = F.softmax(output, dim=1)\n",
    "probabilities"
   ]
  },
  {
   "cell_type": "code",
   "execution_count": 174,
   "metadata": {},
   "outputs": [
    {
     "data": {
      "text/plain": [
       "[20, 10, 72, 26, 37, 6, 7, 71, 98, 102]"
      ]
     },
     "execution_count": 174,
     "metadata": {},
     "output_type": "execute_result"
    }
   ],
   "source": [
    "predictions = torch.topk(output, k=10).indices.tolist()[0]\n",
    "predictions"
   ]
  },
  {
   "cell_type": "code",
   "execution_count": 175,
   "metadata": {},
   "outputs": [
    {
     "data": {
      "text/html": [
       "<div>\n",
       "<style scoped>\n",
       "    .dataframe tbody tr th:only-of-type {\n",
       "        vertical-align: middle;\n",
       "    }\n",
       "\n",
       "    .dataframe tbody tr th {\n",
       "        vertical-align: top;\n",
       "    }\n",
       "\n",
       "    .dataframe thead th {\n",
       "        text-align: right;\n",
       "    }\n",
       "</style>\n",
       "<table border=\"1\" class=\"dataframe\">\n",
       "  <thead>\n",
       "    <tr style=\"text-align: right;\">\n",
       "      <th></th>\n",
       "      <th>name</th>\n",
       "      <th>hero_id</th>\n",
       "      <th>localized_name</th>\n",
       "    </tr>\n",
       "  </thead>\n",
       "  <tbody>\n",
       "    <tr>\n",
       "      <th>0</th>\n",
       "      <td>npc_dota_hero_antimage</td>\n",
       "      <td>-1</td>\n",
       "      <td>Anti-Mage</td>\n",
       "    </tr>\n",
       "    <tr>\n",
       "      <th>1</th>\n",
       "      <td>npc_dota_hero_axe</td>\n",
       "      <td>0</td>\n",
       "      <td>Axe</td>\n",
       "    </tr>\n",
       "    <tr>\n",
       "      <th>2</th>\n",
       "      <td>npc_dota_hero_bane</td>\n",
       "      <td>1</td>\n",
       "      <td>Bane</td>\n",
       "    </tr>\n",
       "    <tr>\n",
       "      <th>3</th>\n",
       "      <td>npc_dota_hero_bloodseeker</td>\n",
       "      <td>2</td>\n",
       "      <td>Bloodseeker</td>\n",
       "    </tr>\n",
       "    <tr>\n",
       "      <th>4</th>\n",
       "      <td>npc_dota_hero_crystal_maiden</td>\n",
       "      <td>3</td>\n",
       "      <td>Crystal Maiden</td>\n",
       "    </tr>\n",
       "  </tbody>\n",
       "</table>\n",
       "</div>"
      ],
      "text/plain": [
       "                           name  hero_id  localized_name\n",
       "0        npc_dota_hero_antimage       -1       Anti-Mage\n",
       "1             npc_dota_hero_axe        0             Axe\n",
       "2            npc_dota_hero_bane        1            Bane\n",
       "3     npc_dota_hero_bloodseeker        2     Bloodseeker\n",
       "4  npc_dota_hero_crystal_maiden        3  Crystal Maiden"
      ]
     },
     "execution_count": 175,
     "metadata": {},
     "output_type": "execute_result"
    }
   ],
   "source": [
    "df_hero_names.head()"
   ]
  },
  {
   "cell_type": "code",
   "execution_count": 176,
   "metadata": {},
   "outputs": [
    {
     "data": {
      "text/plain": [
       "112"
      ]
     },
     "execution_count": 176,
     "metadata": {},
     "output_type": "execute_result"
    }
   ],
   "source": [
    "len(df_hero_names)"
   ]
  },
  {
   "cell_type": "markdown",
   "metadata": {},
   "source": [
    "Getting the name from the predictions - got to be careful here since \"df_hero_names\" hasn't had the hero_id correction applied so doing that now"
   ]
  },
  {
   "cell_type": "code",
   "execution_count": 177,
   "metadata": {},
   "outputs": [],
   "source": [
    "hero_checker = df_hero_names"
   ]
  },
  {
   "cell_type": "code",
   "execution_count": 178,
   "metadata": {},
   "outputs": [],
   "source": [
    "hero_checker['hero_id'] = hero_checker['hero_id'].apply(func)"
   ]
  },
  {
   "cell_type": "markdown",
   "metadata": {},
   "source": [
    "Should be ok now"
   ]
  },
  {
   "cell_type": "code",
   "execution_count": 179,
   "metadata": {},
   "outputs": [
    {
     "data": {
      "text/html": [
       "<div>\n",
       "<style scoped>\n",
       "    .dataframe tbody tr th:only-of-type {\n",
       "        vertical-align: middle;\n",
       "    }\n",
       "\n",
       "    .dataframe tbody tr th {\n",
       "        vertical-align: top;\n",
       "    }\n",
       "\n",
       "    .dataframe thead th {\n",
       "        text-align: right;\n",
       "    }\n",
       "</style>\n",
       "<table border=\"1\" class=\"dataframe\">\n",
       "  <thead>\n",
       "    <tr style=\"text-align: right;\">\n",
       "      <th></th>\n",
       "      <th>name</th>\n",
       "      <th>hero_id</th>\n",
       "      <th>localized_name</th>\n",
       "    </tr>\n",
       "  </thead>\n",
       "  <tbody>\n",
       "    <tr>\n",
       "      <th>0</th>\n",
       "      <td>npc_dota_hero_antimage</td>\n",
       "      <td>-2</td>\n",
       "      <td>Anti-Mage</td>\n",
       "    </tr>\n",
       "    <tr>\n",
       "      <th>1</th>\n",
       "      <td>npc_dota_hero_axe</td>\n",
       "      <td>-1</td>\n",
       "      <td>Axe</td>\n",
       "    </tr>\n",
       "    <tr>\n",
       "      <th>2</th>\n",
       "      <td>npc_dota_hero_bane</td>\n",
       "      <td>0</td>\n",
       "      <td>Bane</td>\n",
       "    </tr>\n",
       "    <tr>\n",
       "      <th>3</th>\n",
       "      <td>npc_dota_hero_bloodseeker</td>\n",
       "      <td>1</td>\n",
       "      <td>Bloodseeker</td>\n",
       "    </tr>\n",
       "    <tr>\n",
       "      <th>4</th>\n",
       "      <td>npc_dota_hero_crystal_maiden</td>\n",
       "      <td>2</td>\n",
       "      <td>Crystal Maiden</td>\n",
       "    </tr>\n",
       "  </tbody>\n",
       "</table>\n",
       "</div>"
      ],
      "text/plain": [
       "                           name  hero_id  localized_name\n",
       "0        npc_dota_hero_antimage       -2       Anti-Mage\n",
       "1             npc_dota_hero_axe       -1             Axe\n",
       "2            npc_dota_hero_bane        0            Bane\n",
       "3     npc_dota_hero_bloodseeker        1     Bloodseeker\n",
       "4  npc_dota_hero_crystal_maiden        2  Crystal Maiden"
      ]
     },
     "execution_count": 179,
     "metadata": {},
     "output_type": "execute_result"
    }
   ],
   "source": [
    "hero_checker.head()"
   ]
  },
  {
   "cell_type": "markdown",
   "metadata": {},
   "source": [
    "Getting heroes"
   ]
  },
  {
   "cell_type": "code",
   "execution_count": 180,
   "metadata": {
    "scrolled": true
   },
   "outputs": [
    {
     "data": {
      "text/plain": [
       "['Mirana',\n",
       " 'Morphling',\n",
       " 'Puck',\n",
       " 'Kunkka',\n",
       " 'Riki',\n",
       " 'Death Prophet',\n",
       " 'Lycan',\n",
       " 'Brewmaster',\n",
       " 'Legion Commander',\n",
       " 'Terrorblade']"
      ]
     },
     "execution_count": 180,
     "metadata": {},
     "output_type": "execute_result"
    }
   ],
   "source": [
    "hero_outputs = hero_checker['localized_name'][hero_checker['hero_id'].isin(predictions)].tolist()\n",
    "hero_outputs"
   ]
  },
  {
   "cell_type": "code",
   "execution_count": 181,
   "metadata": {},
   "outputs": [
    {
     "data": {
      "text/plain": [
       "[0.032953571528196335,\n",
       " 0.03027528151869774,\n",
       " 0.024080514907836914,\n",
       " 0.02402523346245289,\n",
       " 0.021981343626976013,\n",
       " 0.020398149266839027,\n",
       " 0.019587736576795578,\n",
       " 0.01957988739013672,\n",
       " 0.01948363147675991,\n",
       " 0.019216345623135567]"
      ]
     },
     "execution_count": 181,
     "metadata": {},
     "output_type": "execute_result"
    }
   ],
   "source": [
    "probability_output = probabilities[0][predictions].tolist()\n",
    "probability_output"
   ]
  },
  {
   "cell_type": "code",
   "execution_count": 182,
   "metadata": {
    "scrolled": true
   },
   "outputs": [
    {
     "data": {
      "text/plain": [
       "<matplotlib.axes._subplots.AxesSubplot at 0x232a20b9d30>"
      ]
     },
     "execution_count": 182,
     "metadata": {},
     "output_type": "execute_result"
    },
    {
     "data": {
      "image/png": "[encoded data removed]",
      "text/plain": [
       "<Figure size 1080x360 with 1 Axes>"
      ]
     },
     "metadata": {
      "needs_background": "light"
     },
     "output_type": "display_data"
    }
   ],
   "source": [
    "fig = plt.figure(figsize=(15,5))\n",
    "sns.barplot(hero_outputs, probability_output)"
   ]
  }
 ],
 "metadata": {
  "kernelspec": {
   "display_name": "Python 3",
   "language": "python",
   "name": "python3"
  },
  "language_info": {
   "codemirror_mode": {
    "name": "ipython",
    "version": 3
   },
   "file_extension": ".py",
   "mimetype": "text/x-python",
   "name": "python",
   "nbconvert_exporter": "python",
   "pygments_lexer": "ipython3",
   "version": "3.7.3"
  }
 },
 "nbformat": 4,
 "nbformat_minor": 2
}
